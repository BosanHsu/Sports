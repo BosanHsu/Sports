{
 "cells": [
  {
   "cell_type": "markdown",
   "metadata": {},
   "source": [
    "## Regression with Categorical Outcome Variable: NBA Data Set"
   ]
  },
  {
   "cell_type": "code",
   "execution_count": 2,
   "metadata": {},
   "outputs": [],
   "source": [
    "#Import Libraries\n",
    "import pandas as pd\n",
    "import numpy as np\n",
    "import matplotlib.pyplot as plt\n",
    "import seaborn as sns\n",
    "import statsmodels.api as sm\n",
    "import statsmodels.formula.api as smf"
   ]
  },
  {
   "cell_type": "code",
   "execution_count": 3,
   "metadata": {},
   "outputs": [],
   "source": [
    "#Import Data\n",
    "NBA = pd.read_csv(\"Assignment Data/NBA_Games2.csv\")"
   ]
  },
  {
   "cell_type": "code",
   "execution_count": 4,
   "metadata": {},
   "outputs": [
    {
     "data": {
      "text/html": [
       "<div>\n",
       "<style scoped>\n",
       "    .dataframe tbody tr th:only-of-type {\n",
       "        vertical-align: middle;\n",
       "    }\n",
       "\n",
       "    .dataframe tbody tr th {\n",
       "        vertical-align: top;\n",
       "    }\n",
       "\n",
       "    .dataframe thead th {\n",
       "        text-align: right;\n",
       "    }\n",
       "</style>\n",
       "<table border=\"1\" class=\"dataframe\">\n",
       "  <thead>\n",
       "    <tr style=\"text-align: right;\">\n",
       "      <th></th>\n",
       "      <th>CITY</th>\n",
       "      <th>TEAM_NAME</th>\n",
       "      <th>TEAM_ID</th>\n",
       "      <th>NICKNAME</th>\n",
       "      <th>STATE</th>\n",
       "      <th>YEAR_FOUNDED</th>\n",
       "      <th>SEASON_ID</th>\n",
       "      <th>TEAM_ABBREVIATION</th>\n",
       "      <th>GAME_ID</th>\n",
       "      <th>GAME_DATE</th>\n",
       "      <th>...</th>\n",
       "      <th>OREB</th>\n",
       "      <th>DREB</th>\n",
       "      <th>REB</th>\n",
       "      <th>AST</th>\n",
       "      <th>STL</th>\n",
       "      <th>BLK</th>\n",
       "      <th>TOV</th>\n",
       "      <th>PF</th>\n",
       "      <th>PLUS_MINUS</th>\n",
       "      <th>WIN</th>\n",
       "    </tr>\n",
       "  </thead>\n",
       "  <tbody>\n",
       "    <tr>\n",
       "      <th>0</th>\n",
       "      <td>Atlanta</td>\n",
       "      <td>Atlanta Hawks</td>\n",
       "      <td>1610612737</td>\n",
       "      <td>Hawks</td>\n",
       "      <td>Atlanta</td>\n",
       "      <td>1949</td>\n",
       "      <td>22019</td>\n",
       "      <td>ATL</td>\n",
       "      <td>1521900072</td>\n",
       "      <td>2019-07-12</td>\n",
       "      <td>...</td>\n",
       "      <td>13</td>\n",
       "      <td>23</td>\n",
       "      <td>36</td>\n",
       "      <td>14</td>\n",
       "      <td>15</td>\n",
       "      <td>3</td>\n",
       "      <td>12</td>\n",
       "      <td>24</td>\n",
       "      <td>8.0</td>\n",
       "      <td>1</td>\n",
       "    </tr>\n",
       "    <tr>\n",
       "      <th>1</th>\n",
       "      <td>Atlanta</td>\n",
       "      <td>Atlanta Hawks</td>\n",
       "      <td>1610612737</td>\n",
       "      <td>Hawks</td>\n",
       "      <td>Atlanta</td>\n",
       "      <td>1949</td>\n",
       "      <td>22019</td>\n",
       "      <td>ATL</td>\n",
       "      <td>1521900060</td>\n",
       "      <td>2019-07-11</td>\n",
       "      <td>...</td>\n",
       "      <td>9</td>\n",
       "      <td>28</td>\n",
       "      <td>37</td>\n",
       "      <td>19</td>\n",
       "      <td>10</td>\n",
       "      <td>8</td>\n",
       "      <td>22</td>\n",
       "      <td>25</td>\n",
       "      <td>-5.0</td>\n",
       "      <td>0</td>\n",
       "    </tr>\n",
       "    <tr>\n",
       "      <th>2</th>\n",
       "      <td>Atlanta</td>\n",
       "      <td>Atlanta Hawks</td>\n",
       "      <td>1610612737</td>\n",
       "      <td>Hawks</td>\n",
       "      <td>Atlanta</td>\n",
       "      <td>1949</td>\n",
       "      <td>22019</td>\n",
       "      <td>ATL</td>\n",
       "      <td>1521900042</td>\n",
       "      <td>2019-07-09</td>\n",
       "      <td>...</td>\n",
       "      <td>7</td>\n",
       "      <td>27</td>\n",
       "      <td>34</td>\n",
       "      <td>17</td>\n",
       "      <td>5</td>\n",
       "      <td>5</td>\n",
       "      <td>18</td>\n",
       "      <td>21</td>\n",
       "      <td>18.2</td>\n",
       "      <td>1</td>\n",
       "    </tr>\n",
       "    <tr>\n",
       "      <th>3</th>\n",
       "      <td>Atlanta</td>\n",
       "      <td>Atlanta Hawks</td>\n",
       "      <td>1610612737</td>\n",
       "      <td>Hawks</td>\n",
       "      <td>Atlanta</td>\n",
       "      <td>1949</td>\n",
       "      <td>22019</td>\n",
       "      <td>ATL</td>\n",
       "      <td>1521900023</td>\n",
       "      <td>2019-07-07</td>\n",
       "      <td>...</td>\n",
       "      <td>9</td>\n",
       "      <td>27</td>\n",
       "      <td>36</td>\n",
       "      <td>7</td>\n",
       "      <td>7</td>\n",
       "      <td>10</td>\n",
       "      <td>18</td>\n",
       "      <td>28</td>\n",
       "      <td>-24.0</td>\n",
       "      <td>0</td>\n",
       "    </tr>\n",
       "    <tr>\n",
       "      <th>4</th>\n",
       "      <td>Atlanta</td>\n",
       "      <td>Atlanta Hawks</td>\n",
       "      <td>1610612737</td>\n",
       "      <td>Hawks</td>\n",
       "      <td>Atlanta</td>\n",
       "      <td>1949</td>\n",
       "      <td>22019</td>\n",
       "      <td>ATL</td>\n",
       "      <td>1521900013</td>\n",
       "      <td>2019-07-06</td>\n",
       "      <td>...</td>\n",
       "      <td>9</td>\n",
       "      <td>30</td>\n",
       "      <td>39</td>\n",
       "      <td>13</td>\n",
       "      <td>11</td>\n",
       "      <td>6</td>\n",
       "      <td>13</td>\n",
       "      <td>21</td>\n",
       "      <td>2.0</td>\n",
       "      <td>0</td>\n",
       "    </tr>\n",
       "  </tbody>\n",
       "</table>\n",
       "<p>5 rows × 33 columns</p>\n",
       "</div>"
      ],
      "text/plain": [
       "      CITY      TEAM_NAME     TEAM_ID NICKNAME    STATE  YEAR_FOUNDED  \\\n",
       "0  Atlanta  Atlanta Hawks  1610612737    Hawks  Atlanta          1949   \n",
       "1  Atlanta  Atlanta Hawks  1610612737    Hawks  Atlanta          1949   \n",
       "2  Atlanta  Atlanta Hawks  1610612737    Hawks  Atlanta          1949   \n",
       "3  Atlanta  Atlanta Hawks  1610612737    Hawks  Atlanta          1949   \n",
       "4  Atlanta  Atlanta Hawks  1610612737    Hawks  Atlanta          1949   \n",
       "\n",
       "   SEASON_ID TEAM_ABBREVIATION     GAME_ID   GAME_DATE  ... OREB DREB  REB  \\\n",
       "0      22019               ATL  1521900072  2019-07-12  ...   13   23   36   \n",
       "1      22019               ATL  1521900060  2019-07-11  ...    9   28   37   \n",
       "2      22019               ATL  1521900042  2019-07-09  ...    7   27   34   \n",
       "3      22019               ATL  1521900023  2019-07-07  ...    9   27   36   \n",
       "4      22019               ATL  1521900013  2019-07-06  ...    9   30   39   \n",
       "\n",
       "   AST  STL  BLK  TOV  PF  PLUS_MINUS  WIN  \n",
       "0   14   15    3   12  24         8.0    1  \n",
       "1   19   10    8   22  25        -5.0    0  \n",
       "2   17    5    5   18  21        18.2    1  \n",
       "3    7    7   10   18  28       -24.0    0  \n",
       "4   13   11    6   13  21         2.0    0  \n",
       "\n",
       "[5 rows x 33 columns]"
      ]
     },
     "execution_count": 4,
     "metadata": {},
     "output_type": "execute_result"
    }
   ],
   "source": [
    "NBA.head()"
   ]
  },
  {
   "cell_type": "code",
   "execution_count": 5,
   "metadata": {},
   "outputs": [
    {
     "data": {
      "text/html": [
       "<div>\n",
       "<style scoped>\n",
       "    .dataframe tbody tr th:only-of-type {\n",
       "        vertical-align: middle;\n",
       "    }\n",
       "\n",
       "    .dataframe tbody tr th {\n",
       "        vertical-align: top;\n",
       "    }\n",
       "\n",
       "    .dataframe thead th {\n",
       "        text-align: right;\n",
       "    }\n",
       "</style>\n",
       "<table border=\"1\" class=\"dataframe\">\n",
       "  <thead>\n",
       "    <tr style=\"text-align: right;\">\n",
       "      <th></th>\n",
       "      <th>MATCHUP</th>\n",
       "    </tr>\n",
       "  </thead>\n",
       "  <tbody>\n",
       "    <tr>\n",
       "      <th>0</th>\n",
       "      <td>ATL @ SAS</td>\n",
       "    </tr>\n",
       "    <tr>\n",
       "      <th>13440</th>\n",
       "      <td>SAS vs. ATL</td>\n",
       "    </tr>\n",
       "  </tbody>\n",
       "</table>\n",
       "</div>"
      ],
      "text/plain": [
       "           MATCHUP\n",
       "0        ATL @ SAS\n",
       "13440  SAS vs. ATL"
      ]
     },
     "execution_count": 5,
     "metadata": {},
     "output_type": "execute_result"
    }
   ],
   "source": [
    "NBA.loc[NBA[\"GAME_ID\"] == 1521900072, [\"MATCHUP\"]]"
   ]
  },
  {
   "cell_type": "code",
   "execution_count": 6,
   "metadata": {},
   "outputs": [
    {
     "data": {
      "text/plain": [
       "Index(['CITY', 'TEAM_NAME', 'TEAM_ID', 'NICKNAME', 'STATE', 'YEAR_FOUNDED',\n",
       "       'SEASON_ID', 'TEAM_ABBREVIATION', 'GAME_ID', 'GAME_DATE', 'MATCHUP',\n",
       "       'WL', 'MIN', 'PTS', 'FGM', 'FGA', 'FG_PCT', 'FG3M', 'FG3A', 'FG3_PCT',\n",
       "       'FTM', 'FTA', 'FT_PCT', 'OREB', 'DREB', 'REB', 'AST', 'STL', 'BLK',\n",
       "       'TOV', 'PF', 'PLUS_MINUS', 'WIN'],\n",
       "      dtype='object')"
      ]
     },
     "execution_count": 6,
     "metadata": {},
     "output_type": "execute_result"
    }
   ],
   "source": [
    "NBA.columns"
   ]
  },
  {
   "cell_type": "code",
   "execution_count": 7,
   "metadata": {},
   "outputs": [],
   "source": [
    "NBA['TEAM_ID'] = NBA['TEAM_ID'].astype(int)\n",
    "NBA['YEAR_FOUNDED'] = NBA['YEAR_FOUNDED'].astype(int)\n",
    "NBA['SEASON_ID'] = NBA['SEASON_ID'].astype(int)\n",
    "NBA['GAME_ID'] = NBA['GAME_ID'].astype(int)\n",
    "pd.to_datetime(NBA['GAME_DATE'])\n",
    "NBA[['MIN', 'PTS', 'FGM', 'FGA', 'FG_PCT', 'FG3M', 'FG3A', 'FG3_PCT',\n",
    "    'FTM', 'FTA', 'FT_PCT', 'OREB', 'DREB', 'REB', 'AST', 'STL', 'BLK',\n",
    "    'TOV', 'PF', 'WIN']] = NBA[['MIN', 'PTS', 'FGM', 'FGA', 'FG_PCT', 'FG3M', 'FG3A', 'FG3_PCT',\n",
    "                                'FTM', 'FTA', 'FT_PCT', 'OREB', 'DREB', 'REB', 'AST', 'STL', 'BLK',\n",
    "                                'TOV', 'PF', 'WIN']].astype(int)\n",
    "NBA[['MIN', 'FG_PCT', 'FG3_PCT', 'FT_PCT', 'PLUS_MINUS']] = NBA[['MIN', 'FG_PCT', 'FG3_PCT', 'FT_PCT', 'PLUS_MINUS']].astype(float)"
   ]
  },
  {
   "cell_type": "markdown",
   "metadata": {},
   "source": [
    "### Step 1. Building the Dataset – NBA Data set "
   ]
  },
  {
   "cell_type": "markdown",
   "metadata": {},
   "source": [
    "extract 2017 regular season records, named “NBA _2017”. The regular season games can be defined with a Season ID equal to 22017 and a Game ID less than 1000000000 (these filters will exclude preseason games)."
   ]
  },
  {
   "cell_type": "code",
   "execution_count": 8,
   "metadata": {},
   "outputs": [],
   "source": [
    "NBA_2017 = NBA[ (NBA[\"SEASON_ID\"] == 22017) & (NBA[\"GAME_ID\"] <= 1000000000) ]"
   ]
  },
  {
   "cell_type": "code",
   "execution_count": 9,
   "metadata": {},
   "outputs": [],
   "source": [
    "NBA_2017.drop([\"CITY\", \"TEAM_ID\", \"NICKNAME\", \"STATE\", \"YEAR_FOUNDED\", \"SEASON_ID\", \"TEAM_ABBREVIATION\"], axis=1, inplace=True)"
   ]
  },
  {
   "cell_type": "code",
   "execution_count": 10,
   "metadata": {},
   "outputs": [
    {
     "data": {
      "text/plain": [
       "<bound method NDFrame.describe of                TEAM_NAME   GAME_ID   GAME_DATE      MATCHUP WL    MIN  PTS  \\\n",
       "101        Atlanta Hawks  21701214  2018-04-10  ATL vs. PHI  L  240.0  113   \n",
       "102        Atlanta Hawks  21701202  2018-04-08    ATL @ BOS  W  239.0  112   \n",
       "103        Atlanta Hawks  21701184  2018-04-06    ATL @ WAS  W  239.0  103   \n",
       "104        Atlanta Hawks  21701172  2018-04-04  ATL vs. MIA  L  239.0   86   \n",
       "105        Atlanta Hawks  21701158  2018-04-03    ATL @ MIA  L  240.0   98   \n",
       "...                  ...       ...         ...          ... ..    ...  ...   \n",
       "18106  Charlotte Hornets  21700070  2017-10-27  CHA vs. HOU  L  242.0   93   \n",
       "18107  Charlotte Hornets  21700055  2017-10-25  CHA vs. DEN  W  240.0  110   \n",
       "18108  Charlotte Hornets  21700044  2017-10-23    CHA @ MIL  L  240.0   94   \n",
       "18109  Charlotte Hornets  21700017  2017-10-20  CHA vs. ATL  W  240.0  109   \n",
       "18110  Charlotte Hornets  21700003  2017-10-18    CHA @ DET  L  238.0   90   \n",
       "\n",
       "       FGM  FGA  FG_PCT  ...  OREB  DREB  REB  AST  STL  BLK  TOV  PF  \\\n",
       "101     41   98     0.0  ...     8    31   39   27   10    3   10  24   \n",
       "102     43   86     0.0  ...     5    32   37   23    7    4   13  19   \n",
       "103     38   79     0.0  ...     7    43   50   24    5    5   18  22   \n",
       "104     33   90     0.0  ...    10    38   48   20    5    6   15  16   \n",
       "105     37   88     0.0  ...    12    37   49   24   10    1   15  15   \n",
       "...    ...  ...     ...  ...   ...   ...  ...  ...  ...  ...  ...  ..   \n",
       "18106   33   88     0.0  ...    11    33   44   16    6    5    9  14   \n",
       "18107   38   81     0.0  ...    10    40   50   17    5    5   14  16   \n",
       "18108   33   78     0.0  ...    10    38   48   17    3    5   14  21   \n",
       "18109   37   86     0.0  ...    12    45   57   17    5    4   21  18   \n",
       "18110   29   73     0.0  ...     3    44   47   16    4    3   17  15   \n",
       "\n",
       "       PLUS_MINUS  WIN  \n",
       "101          -8.0    0  \n",
       "102           6.0    1  \n",
       "103           6.0    1  \n",
       "104         -29.0    0  \n",
       "105          -3.0    0  \n",
       "...           ...  ...  \n",
       "18106       -16.0    0  \n",
       "18107        17.0    1  \n",
       "18108        -7.0    0  \n",
       "18109        18.0    1  \n",
       "18110       -12.0    0  \n",
       "\n",
       "[2378 rows x 26 columns]>"
      ]
     },
     "execution_count": 10,
     "metadata": {},
     "output_type": "execute_result"
    }
   ],
   "source": [
    "NBA_2017.describe"
   ]
  },
  {
   "cell_type": "markdown",
   "metadata": {},
   "source": [
    "Manipulate the dataset and define the variables. This proceeds in several steps:\n",
    "\n",
    "Filter 2017 regular season records and select columns to be used for analysis.\n",
    "\n",
    "Manipulate the MATCHUP column to obtain columns for each team.\n",
    "\n",
    "Create the home dummy variable"
   ]
  },
  {
   "cell_type": "code",
   "execution_count": 11,
   "metadata": {},
   "outputs": [],
   "source": [
    "NBA_2017['HOME'] = NBA_2017['MATCHUP'].apply(lambda x: 1 if \"vs.\" in x else 0)"
   ]
  },
  {
   "cell_type": "code",
   "execution_count": 12,
   "metadata": {},
   "outputs": [],
   "source": [
    "home_teams = NBA_2017[NBA_2017['HOME'] == 1].copy()\n",
    "away_teams = NBA_2017[NBA_2017['HOME'] == 0].copy()\n",
    "\n",
    "home_teams.rename(columns=lambda x: 'home_' + x, inplace=True)\n",
    "away_teams.rename(columns=lambda x: 'away_' + x, inplace=True)\n",
    "\n",
    "home_teams.rename(columns={'home_GAME_ID': 'GAME_ID'}, inplace=True)\n",
    "away_teams.rename(columns={'away_GAME_ID': 'GAME_ID'}, inplace=True)\n",
    "\n",
    "NBA_2017_combined = pd.merge(home_teams, away_teams, on='GAME_ID')"
   ]
  },
  {
   "cell_type": "code",
   "execution_count": 13,
   "metadata": {},
   "outputs": [
    {
     "data": {
      "text/html": [
       "<div>\n",
       "<style scoped>\n",
       "    .dataframe tbody tr th:only-of-type {\n",
       "        vertical-align: middle;\n",
       "    }\n",
       "\n",
       "    .dataframe tbody tr th {\n",
       "        vertical-align: top;\n",
       "    }\n",
       "\n",
       "    .dataframe thead th {\n",
       "        text-align: right;\n",
       "    }\n",
       "</style>\n",
       "<table border=\"1\" class=\"dataframe\">\n",
       "  <thead>\n",
       "    <tr style=\"text-align: right;\">\n",
       "      <th></th>\n",
       "      <th>home_TEAM_NAME</th>\n",
       "      <th>GAME_ID</th>\n",
       "      <th>home_GAME_DATE</th>\n",
       "      <th>home_MATCHUP</th>\n",
       "      <th>home_WL</th>\n",
       "      <th>home_MIN</th>\n",
       "      <th>home_PTS</th>\n",
       "      <th>home_FGM</th>\n",
       "      <th>home_FGA</th>\n",
       "      <th>home_FG_PCT</th>\n",
       "      <th>...</th>\n",
       "      <th>away_DREB</th>\n",
       "      <th>away_REB</th>\n",
       "      <th>away_AST</th>\n",
       "      <th>away_STL</th>\n",
       "      <th>away_BLK</th>\n",
       "      <th>away_TOV</th>\n",
       "      <th>away_PF</th>\n",
       "      <th>away_PLUS_MINUS</th>\n",
       "      <th>away_WIN</th>\n",
       "      <th>away_HOME</th>\n",
       "    </tr>\n",
       "  </thead>\n",
       "  <tbody>\n",
       "    <tr>\n",
       "      <th>0</th>\n",
       "      <td>Atlanta Hawks</td>\n",
       "      <td>21701214</td>\n",
       "      <td>2018-04-10</td>\n",
       "      <td>ATL vs. PHI</td>\n",
       "      <td>L</td>\n",
       "      <td>240.0</td>\n",
       "      <td>113</td>\n",
       "      <td>41</td>\n",
       "      <td>98</td>\n",
       "      <td>0.0</td>\n",
       "      <td>...</td>\n",
       "      <td>43</td>\n",
       "      <td>54</td>\n",
       "      <td>29</td>\n",
       "      <td>7</td>\n",
       "      <td>8</td>\n",
       "      <td>18</td>\n",
       "      <td>22</td>\n",
       "      <td>8.0</td>\n",
       "      <td>1</td>\n",
       "      <td>0</td>\n",
       "    </tr>\n",
       "    <tr>\n",
       "      <th>1</th>\n",
       "      <td>Atlanta Hawks</td>\n",
       "      <td>21701172</td>\n",
       "      <td>2018-04-04</td>\n",
       "      <td>ATL vs. MIA</td>\n",
       "      <td>L</td>\n",
       "      <td>239.0</td>\n",
       "      <td>86</td>\n",
       "      <td>33</td>\n",
       "      <td>90</td>\n",
       "      <td>0.0</td>\n",
       "      <td>...</td>\n",
       "      <td>44</td>\n",
       "      <td>54</td>\n",
       "      <td>23</td>\n",
       "      <td>9</td>\n",
       "      <td>10</td>\n",
       "      <td>11</td>\n",
       "      <td>17</td>\n",
       "      <td>29.0</td>\n",
       "      <td>1</td>\n",
       "      <td>0</td>\n",
       "    </tr>\n",
       "    <tr>\n",
       "      <th>2</th>\n",
       "      <td>Atlanta Hawks</td>\n",
       "      <td>21701147</td>\n",
       "      <td>2018-04-01</td>\n",
       "      <td>ATL vs. ORL</td>\n",
       "      <td>W</td>\n",
       "      <td>241.0</td>\n",
       "      <td>94</td>\n",
       "      <td>41</td>\n",
       "      <td>85</td>\n",
       "      <td>0.0</td>\n",
       "      <td>...</td>\n",
       "      <td>30</td>\n",
       "      <td>41</td>\n",
       "      <td>19</td>\n",
       "      <td>8</td>\n",
       "      <td>6</td>\n",
       "      <td>5</td>\n",
       "      <td>10</td>\n",
       "      <td>-6.0</td>\n",
       "      <td>0</td>\n",
       "      <td>0</td>\n",
       "    </tr>\n",
       "    <tr>\n",
       "      <th>3</th>\n",
       "      <td>Atlanta Hawks</td>\n",
       "      <td>21701130</td>\n",
       "      <td>2018-03-30</td>\n",
       "      <td>ATL vs. PHI</td>\n",
       "      <td>L</td>\n",
       "      <td>239.0</td>\n",
       "      <td>91</td>\n",
       "      <td>36</td>\n",
       "      <td>101</td>\n",
       "      <td>0.0</td>\n",
       "      <td>...</td>\n",
       "      <td>44</td>\n",
       "      <td>53</td>\n",
       "      <td>34</td>\n",
       "      <td>10</td>\n",
       "      <td>6</td>\n",
       "      <td>15</td>\n",
       "      <td>18</td>\n",
       "      <td>10.0</td>\n",
       "      <td>1</td>\n",
       "      <td>0</td>\n",
       "    </tr>\n",
       "    <tr>\n",
       "      <th>4</th>\n",
       "      <td>Atlanta Hawks</td>\n",
       "      <td>21701021</td>\n",
       "      <td>2018-03-15</td>\n",
       "      <td>ATL vs. CHA</td>\n",
       "      <td>L</td>\n",
       "      <td>242.0</td>\n",
       "      <td>117</td>\n",
       "      <td>42</td>\n",
       "      <td>90</td>\n",
       "      <td>0.0</td>\n",
       "      <td>...</td>\n",
       "      <td>39</td>\n",
       "      <td>45</td>\n",
       "      <td>30</td>\n",
       "      <td>3</td>\n",
       "      <td>3</td>\n",
       "      <td>10</td>\n",
       "      <td>21</td>\n",
       "      <td>12.0</td>\n",
       "      <td>1</td>\n",
       "      <td>0</td>\n",
       "    </tr>\n",
       "  </tbody>\n",
       "</table>\n",
       "<p>5 rows × 53 columns</p>\n",
       "</div>"
      ],
      "text/plain": [
       "  home_TEAM_NAME   GAME_ID home_GAME_DATE home_MATCHUP home_WL  home_MIN  \\\n",
       "0  Atlanta Hawks  21701214     2018-04-10  ATL vs. PHI       L     240.0   \n",
       "1  Atlanta Hawks  21701172     2018-04-04  ATL vs. MIA       L     239.0   \n",
       "2  Atlanta Hawks  21701147     2018-04-01  ATL vs. ORL       W     241.0   \n",
       "3  Atlanta Hawks  21701130     2018-03-30  ATL vs. PHI       L     239.0   \n",
       "4  Atlanta Hawks  21701021     2018-03-15  ATL vs. CHA       L     242.0   \n",
       "\n",
       "   home_PTS  home_FGM  home_FGA  home_FG_PCT  ...  away_DREB  away_REB  \\\n",
       "0       113        41        98          0.0  ...         43        54   \n",
       "1        86        33        90          0.0  ...         44        54   \n",
       "2        94        41        85          0.0  ...         30        41   \n",
       "3        91        36       101          0.0  ...         44        53   \n",
       "4       117        42        90          0.0  ...         39        45   \n",
       "\n",
       "   away_AST  away_STL  away_BLK  away_TOV  away_PF  away_PLUS_MINUS  away_WIN  \\\n",
       "0        29         7         8        18       22              8.0         1   \n",
       "1        23         9        10        11       17             29.0         1   \n",
       "2        19         8         6         5       10             -6.0         0   \n",
       "3        34        10         6        15       18             10.0         1   \n",
       "4        30         3         3        10       21             12.0         1   \n",
       "\n",
       "   away_HOME  \n",
       "0          0  \n",
       "1          0  \n",
       "2          0  \n",
       "3          0  \n",
       "4          0  \n",
       "\n",
       "[5 rows x 53 columns]"
      ]
     },
     "execution_count": 13,
     "metadata": {},
     "output_type": "execute_result"
    }
   ],
   "source": [
    "NBA_2017_combined.head()"
   ]
  },
  {
   "cell_type": "code",
   "execution_count": null,
   "metadata": {},
   "outputs": [],
   "source": []
  },
  {
   "cell_type": "markdown",
   "metadata": {},
   "source": [
    "#### Step 2. Running Regression – Part I"
   ]
  },
  {
   "cell_type": "markdown",
   "metadata": {},
   "source": [
    "Fit LPM of win (W vs. L) on Pythagorean Winning Percentage."
   ]
  },
  {
   "cell_type": "code",
   "execution_count": 18,
   "metadata": {},
   "outputs": [],
   "source": [
    "home_wins = NBA_2017_combined.groupby(\"home_TEAM_NAME\", as_index=False)[\"home_WIN\"].sum().rename(columns={'home_TEAM_NAME': 'TEAM_NAME'})\n",
    "away_wins = NBA_2017_combined.groupby(\"away_TEAM_NAME\", as_index=False)[\"away_WIN\"].sum().rename(columns={'away_TEAM_NAME': 'TEAM_NAME'})\n",
    "home_games = NBA_2017_combined.groupby(\"home_TEAM_NAME\", as_index=False)[\"GAME_ID\"].count().rename(columns={'GAME_ID': 'home_GAMES', 'home_TEAM_NAME': 'TEAM_NAME'})\n",
    "away_games = NBA_2017_combined.groupby(\"away_TEAM_NAME\", as_index=False)[\"GAME_ID\"].count().rename(columns={'GAME_ID': 'away_GAMES', 'away_TEAM_NAME': 'TEAM_NAME'})\n",
    "\n",
    "total_wins = pd.merge(home_wins, away_wins, on=\"TEAM_NAME\")\n",
    "total_games = pd.merge(home_games, away_games, on=\"TEAM_NAME\")\n",
    "\n",
    "total_wins['Total_WIN'] = total_wins['home_WIN'] + total_wins['away_WIN']\n",
    "total_games['Total_GAMES'] = total_games['home_GAMES'] + total_games['away_GAMES']\n",
    "total_games_wl = pd.merge(total_wins, total_games, on=\"TEAM_NAME\")\n",
    "\n",
    "total_games_wl['wpct'] = total_games_wl['Total_WIN']/total_games_wl['Total_GAMES']"
   ]
  },
  {
   "cell_type": "code",
   "execution_count": 19,
   "metadata": {},
   "outputs": [],
   "source": [
    "home_pts = NBA_2017_combined.groupby(\"home_TEAM_NAME\", as_index=False)[\"home_PTS\"].sum().rename(columns={'home_PTS': 'PTS_home', 'home_TEAM_NAME': 'TEAM_NAME'})\n",
    "away_pts = NBA_2017_combined.groupby(\"away_TEAM_NAME\", as_index=False)[\"away_PTS\"].sum().rename(columns={'away_PTS': 'PTS_away', 'away_TEAM_NAME': 'TEAM_NAME'})\n",
    "home_pts_allowed = NBA_2017_combined.groupby(\"home_TEAM_NAME\", as_index=False)[\"away_PTS\"].sum().rename(columns={'away_PTS': 'PTS_allowed_home', 'home_TEAM_NAME': 'TEAM_NAME'})\n",
    "away_pts_allowed = NBA_2017_combined.groupby(\"away_TEAM_NAME\", as_index=False)[\"home_PTS\"].sum().rename(columns={'home_PTS': 'PTS_allowed_away', 'away_TEAM_NAME': 'TEAM_NAME'})\n",
    "\n",
    "total_pts = pd.merge(home_pts, away_pts, on=\"TEAM_NAME\")\n",
    "total_pts_allowed = pd.merge(home_pts_allowed, away_pts_allowed, on=\"TEAM_NAME\")\n",
    "\n",
    "total_pts['Total_PTS'] = total_pts['PTS_home'] + total_pts['PTS_away']\n",
    "total_pts_allowed['Total_PTS_allowed'] = total_pts_allowed['PTS_allowed_home'] + total_pts_allowed['PTS_allowed_away']\n",
    "total_pts = pd.merge(total_pts, total_pts_allowed, on=\"TEAM_NAME\")\n",
    "\n",
    "total_pts[\"pyth_wpct\"] = total_pts[\"Total_PTS\"]**2 / (total_pts[\"Total_PTS\"]**2 + total_pts[\"Total_PTS_allowed\"]**2)"
   ]
  },
  {
   "cell_type": "code",
   "execution_count": 21,
   "metadata": {},
   "outputs": [
    {
     "data": {
      "text/html": [
       "<div>\n",
       "<style scoped>\n",
       "    .dataframe tbody tr th:only-of-type {\n",
       "        vertical-align: middle;\n",
       "    }\n",
       "\n",
       "    .dataframe tbody tr th {\n",
       "        vertical-align: top;\n",
       "    }\n",
       "\n",
       "    .dataframe thead th {\n",
       "        text-align: right;\n",
       "    }\n",
       "</style>\n",
       "<table border=\"1\" class=\"dataframe\">\n",
       "  <thead>\n",
       "    <tr style=\"text-align: right;\">\n",
       "      <th></th>\n",
       "      <th>TEAM_NAME</th>\n",
       "      <th>wpct</th>\n",
       "      <th>pyth_wpct</th>\n",
       "    </tr>\n",
       "  </thead>\n",
       "  <tbody>\n",
       "    <tr>\n",
       "      <th>0</th>\n",
       "      <td>Atlanta Hawks</td>\n",
       "      <td>0.300000</td>\n",
       "      <td>0.474490</td>\n",
       "    </tr>\n",
       "    <tr>\n",
       "      <th>1</th>\n",
       "      <td>Boston Celtics</td>\n",
       "      <td>0.675000</td>\n",
       "      <td>0.517969</td>\n",
       "    </tr>\n",
       "    <tr>\n",
       "      <th>2</th>\n",
       "      <td>Brooklyn Nets</td>\n",
       "      <td>0.350000</td>\n",
       "      <td>0.483214</td>\n",
       "    </tr>\n",
       "    <tr>\n",
       "      <th>3</th>\n",
       "      <td>Charlotte Hornets</td>\n",
       "      <td>0.437500</td>\n",
       "      <td>0.500808</td>\n",
       "    </tr>\n",
       "    <tr>\n",
       "      <th>4</th>\n",
       "      <td>Chicago Bulls</td>\n",
       "      <td>0.337500</td>\n",
       "      <td>0.467080</td>\n",
       "    </tr>\n",
       "    <tr>\n",
       "      <th>5</th>\n",
       "      <td>Cleveland Cavaliers</td>\n",
       "      <td>0.612500</td>\n",
       "      <td>0.504871</td>\n",
       "    </tr>\n",
       "    <tr>\n",
       "      <th>6</th>\n",
       "      <td>Dallas Mavericks</td>\n",
       "      <td>0.291139</td>\n",
       "      <td>0.484715</td>\n",
       "    </tr>\n",
       "    <tr>\n",
       "      <th>7</th>\n",
       "      <td>Denver Nuggets</td>\n",
       "      <td>0.569620</td>\n",
       "      <td>0.506331</td>\n",
       "    </tr>\n",
       "    <tr>\n",
       "      <th>8</th>\n",
       "      <td>Detroit Pistons</td>\n",
       "      <td>0.475000</td>\n",
       "      <td>0.499579</td>\n",
       "    </tr>\n",
       "    <tr>\n",
       "      <th>9</th>\n",
       "      <td>Golden State Warriors</td>\n",
       "      <td>0.705128</td>\n",
       "      <td>0.526693</td>\n",
       "    </tr>\n",
       "    <tr>\n",
       "      <th>10</th>\n",
       "      <td>Houston Rockets</td>\n",
       "      <td>0.807692</td>\n",
       "      <td>0.541290</td>\n",
       "    </tr>\n",
       "    <tr>\n",
       "      <th>11</th>\n",
       "      <td>Indiana Pacers</td>\n",
       "      <td>0.575000</td>\n",
       "      <td>0.506022</td>\n",
       "    </tr>\n",
       "    <tr>\n",
       "      <th>12</th>\n",
       "      <td>Los Angeles Lakers</td>\n",
       "      <td>0.435897</td>\n",
       "      <td>0.493755</td>\n",
       "    </tr>\n",
       "    <tr>\n",
       "      <th>13</th>\n",
       "      <td>Memphis Grizzlies</td>\n",
       "      <td>0.256410</td>\n",
       "      <td>0.468389</td>\n",
       "    </tr>\n",
       "    <tr>\n",
       "      <th>14</th>\n",
       "      <td>Miami Heat</td>\n",
       "      <td>0.525000</td>\n",
       "      <td>0.501874</td>\n",
       "    </tr>\n",
       "    <tr>\n",
       "      <th>15</th>\n",
       "      <td>Milwaukee Bucks</td>\n",
       "      <td>0.550000</td>\n",
       "      <td>0.499354</td>\n",
       "    </tr>\n",
       "    <tr>\n",
       "      <th>16</th>\n",
       "      <td>Minnesota Timberwolves</td>\n",
       "      <td>0.551282</td>\n",
       "      <td>0.508835</td>\n",
       "    </tr>\n",
       "    <tr>\n",
       "      <th>17</th>\n",
       "      <td>New Orleans Pelicans</td>\n",
       "      <td>0.576923</td>\n",
       "      <td>0.505191</td>\n",
       "    </tr>\n",
       "    <tr>\n",
       "      <th>18</th>\n",
       "      <td>New York Knicks</td>\n",
       "      <td>0.350000</td>\n",
       "      <td>0.482886</td>\n",
       "    </tr>\n",
       "    <tr>\n",
       "      <th>19</th>\n",
       "      <td>Oklahoma City Thunder</td>\n",
       "      <td>0.569620</td>\n",
       "      <td>0.515147</td>\n",
       "    </tr>\n",
       "    <tr>\n",
       "      <th>20</th>\n",
       "      <td>Orlando Magic</td>\n",
       "      <td>0.312500</td>\n",
       "      <td>0.477807</td>\n",
       "    </tr>\n",
       "    <tr>\n",
       "      <th>21</th>\n",
       "      <td>Philadelphia 76ers</td>\n",
       "      <td>0.625000</td>\n",
       "      <td>0.520381</td>\n",
       "    </tr>\n",
       "    <tr>\n",
       "      <th>22</th>\n",
       "      <td>Phoenix Suns</td>\n",
       "      <td>0.269231</td>\n",
       "      <td>0.459326</td>\n",
       "    </tr>\n",
       "    <tr>\n",
       "      <th>23</th>\n",
       "      <td>Portland Trail Blazers</td>\n",
       "      <td>0.589744</td>\n",
       "      <td>0.511308</td>\n",
       "    </tr>\n",
       "    <tr>\n",
       "      <th>24</th>\n",
       "      <td>Sacramento Kings</td>\n",
       "      <td>0.346154</td>\n",
       "      <td>0.467529</td>\n",
       "    </tr>\n",
       "    <tr>\n",
       "      <th>25</th>\n",
       "      <td>San Antonio Spurs</td>\n",
       "      <td>0.569620</td>\n",
       "      <td>0.513092</td>\n",
       "    </tr>\n",
       "    <tr>\n",
       "      <th>26</th>\n",
       "      <td>Toronto Raptors</td>\n",
       "      <td>0.737500</td>\n",
       "      <td>0.537828</td>\n",
       "    </tr>\n",
       "    <tr>\n",
       "      <th>27</th>\n",
       "      <td>Utah Jazz</td>\n",
       "      <td>0.576923</td>\n",
       "      <td>0.520045</td>\n",
       "    </tr>\n",
       "    <tr>\n",
       "      <th>28</th>\n",
       "      <td>Washington Wizards</td>\n",
       "      <td>0.525000</td>\n",
       "      <td>0.502350</td>\n",
       "    </tr>\n",
       "  </tbody>\n",
       "</table>\n",
       "</div>"
      ],
      "text/plain": [
       "                 TEAM_NAME      wpct  pyth_wpct\n",
       "0            Atlanta Hawks  0.300000   0.474490\n",
       "1           Boston Celtics  0.675000   0.517969\n",
       "2            Brooklyn Nets  0.350000   0.483214\n",
       "3        Charlotte Hornets  0.437500   0.500808\n",
       "4            Chicago Bulls  0.337500   0.467080\n",
       "5      Cleveland Cavaliers  0.612500   0.504871\n",
       "6         Dallas Mavericks  0.291139   0.484715\n",
       "7           Denver Nuggets  0.569620   0.506331\n",
       "8          Detroit Pistons  0.475000   0.499579\n",
       "9    Golden State Warriors  0.705128   0.526693\n",
       "10         Houston Rockets  0.807692   0.541290\n",
       "11          Indiana Pacers  0.575000   0.506022\n",
       "12      Los Angeles Lakers  0.435897   0.493755\n",
       "13       Memphis Grizzlies  0.256410   0.468389\n",
       "14              Miami Heat  0.525000   0.501874\n",
       "15         Milwaukee Bucks  0.550000   0.499354\n",
       "16  Minnesota Timberwolves  0.551282   0.508835\n",
       "17    New Orleans Pelicans  0.576923   0.505191\n",
       "18         New York Knicks  0.350000   0.482886\n",
       "19   Oklahoma City Thunder  0.569620   0.515147\n",
       "20           Orlando Magic  0.312500   0.477807\n",
       "21      Philadelphia 76ers  0.625000   0.520381\n",
       "22            Phoenix Suns  0.269231   0.459326\n",
       "23  Portland Trail Blazers  0.589744   0.511308\n",
       "24        Sacramento Kings  0.346154   0.467529\n",
       "25       San Antonio Spurs  0.569620   0.513092\n",
       "26         Toronto Raptors  0.737500   0.537828\n",
       "27               Utah Jazz  0.576923   0.520045\n",
       "28      Washington Wizards  0.525000   0.502350"
      ]
     },
     "execution_count": 21,
     "metadata": {},
     "output_type": "execute_result"
    }
   ],
   "source": [
    "total_stats = pd.merge(total_games_wl[[\"TEAM_NAME\", \"wpct\"]], total_pts[[\"TEAM_NAME\", \"pyth_wpct\"]], on=\"TEAM_NAME\")\n",
    "total_stats"
   ]
  },
  {
   "cell_type": "code",
   "execution_count": 24,
   "metadata": {},
   "outputs": [],
   "source": [
    "total_stats[\"home_TEAM_NAME\"] = total_stats[\"TEAM_NAME\"]\n",
    "NBA_2017_combined = pd.merge(NBA_2017_combined, total_stats , on='home_TEAM_NAME')"
   ]
  },
  {
   "cell_type": "code",
   "execution_count": 26,
   "metadata": {
    "scrolled": true
   },
   "outputs": [
    {
     "data": {
      "text/html": [
       "<table class=\"simpletable\">\n",
       "<caption>OLS Regression Results</caption>\n",
       "<tr>\n",
       "  <th>Dep. Variable:</th>          <td>wpct</td>       <th>  R-squared:         </th> <td>   0.912</td> \n",
       "</tr>\n",
       "<tr>\n",
       "  <th>Model:</th>                   <td>OLS</td>       <th>  Adj. R-squared:    </th> <td>   0.912</td> \n",
       "</tr>\n",
       "<tr>\n",
       "  <th>Method:</th>             <td>Least Squares</td>  <th>  F-statistic:       </th> <td>1.194e+04</td>\n",
       "</tr>\n",
       "<tr>\n",
       "  <th>Date:</th>             <td>Sun, 17 Mar 2024</td> <th>  Prob (F-statistic):</th>  <td>  0.00</td>  \n",
       "</tr>\n",
       "<tr>\n",
       "  <th>Time:</th>                 <td>04:48:57</td>     <th>  Log-Likelihood:    </th> <td>  1964.9</td> \n",
       "</tr>\n",
       "<tr>\n",
       "  <th>No. Observations:</th>      <td>  1148</td>      <th>  AIC:               </th> <td>  -3926.</td> \n",
       "</tr>\n",
       "<tr>\n",
       "  <th>Df Residuals:</th>          <td>  1146</td>      <th>  BIC:               </th> <td>  -3916.</td> \n",
       "</tr>\n",
       "<tr>\n",
       "  <th>Df Model:</th>              <td>     1</td>      <th>                     </th>     <td> </td>    \n",
       "</tr>\n",
       "<tr>\n",
       "  <th>Covariance Type:</th>      <td>nonrobust</td>    <th>                     </th>     <td> </td>    \n",
       "</tr>\n",
       "</table>\n",
       "<table class=\"simpletable\">\n",
       "<tr>\n",
       "      <td></td>         <th>coef</th>     <th>std err</th>      <th>t</th>      <th>P>|t|</th>  <th>[0.025</th>    <th>0.975]</th>  \n",
       "</tr>\n",
       "<tr>\n",
       "  <th>Intercept</th> <td>   -2.9016</td> <td>    0.031</td> <td>  -93.141</td> <td> 0.000</td> <td>   -2.963</td> <td>   -2.840</td>\n",
       "</tr>\n",
       "<tr>\n",
       "  <th>pyth_wpct</th> <td>    6.8042</td> <td>    0.062</td> <td>  109.281</td> <td> 0.000</td> <td>    6.682</td> <td>    6.926</td>\n",
       "</tr>\n",
       "</table>\n",
       "<table class=\"simpletable\">\n",
       "<tr>\n",
       "  <th>Omnibus:</th>       <td>24.892</td> <th>  Durbin-Watson:     </th> <td>   0.043</td>\n",
       "</tr>\n",
       "<tr>\n",
       "  <th>Prob(Omnibus):</th> <td> 0.000</td> <th>  Jarque-Bera (JB):  </th> <td>  16.820</td>\n",
       "</tr>\n",
       "<tr>\n",
       "  <th>Skew:</th>          <td>-0.171</td> <th>  Prob(JB):          </th> <td>0.000223</td>\n",
       "</tr>\n",
       "<tr>\n",
       "  <th>Kurtosis:</th>      <td> 2.515</td> <th>  Cond. No.          </th> <td>    60.3</td>\n",
       "</tr>\n",
       "</table><br/><br/>Warnings:<br/>[1] Standard Errors assume that the covariance matrix of the errors is correctly specified."
      ],
      "text/plain": [
       "<class 'statsmodels.iolib.summary.Summary'>\n",
       "\"\"\"\n",
       "                            OLS Regression Results                            \n",
       "==============================================================================\n",
       "Dep. Variable:                   wpct   R-squared:                       0.912\n",
       "Model:                            OLS   Adj. R-squared:                  0.912\n",
       "Method:                 Least Squares   F-statistic:                 1.194e+04\n",
       "Date:                Sun, 17 Mar 2024   Prob (F-statistic):               0.00\n",
       "Time:                        04:48:57   Log-Likelihood:                 1964.9\n",
       "No. Observations:                1148   AIC:                            -3926.\n",
       "Df Residuals:                    1146   BIC:                            -3916.\n",
       "Df Model:                           1                                         \n",
       "Covariance Type:            nonrobust                                         \n",
       "==============================================================================\n",
       "                 coef    std err          t      P>|t|      [0.025      0.975]\n",
       "------------------------------------------------------------------------------\n",
       "Intercept     -2.9016      0.031    -93.141      0.000      -2.963      -2.840\n",
       "pyth_wpct      6.8042      0.062    109.281      0.000       6.682       6.926\n",
       "==============================================================================\n",
       "Omnibus:                       24.892   Durbin-Watson:                   0.043\n",
       "Prob(Omnibus):                  0.000   Jarque-Bera (JB):               16.820\n",
       "Skew:                          -0.171   Prob(JB):                     0.000223\n",
       "Kurtosis:                       2.515   Cond. No.                         60.3\n",
       "==============================================================================\n",
       "\n",
       "Warnings:\n",
       "[1] Standard Errors assume that the covariance matrix of the errors is correctly specified.\n",
       "\"\"\""
      ]
     },
     "execution_count": 26,
     "metadata": {},
     "output_type": "execute_result"
    }
   ],
   "source": [
    "NBA_2017_combined_lm = smf.ols(formula = \"wpct ~ pyth_wpct\", data = NBA_2017_combined).fit()\n",
    "NBA_2017_combined_lm.summary()"
   ]
  },
  {
   "cell_type": "markdown",
   "metadata": {},
   "source": [
    "Plot the LPM "
   ]
  },
  {
   "cell_type": "code",
   "execution_count": 27,
   "metadata": {},
   "outputs": [
    {
     "data": {
      "text/plain": [
       "Text(0.5, 1.0, 'Correlation: wpct vs pyth_wpct')"
      ]
     },
     "execution_count": 27,
     "metadata": {},
     "output_type": "execute_result"
    },
    {
     "data": {
      "image/png": "[encoded data removed]",
      "text/plain": [
       "<Figure size 432x288 with 1 Axes>"
      ]
     },
     "metadata": {
      "needs_background": "light"
     },
     "output_type": "display_data"
    }
   ],
   "source": [
    "sns.regplot(x = \"wpct\", y = \"pyth_wpct\", data = NBA_2017_combined ,  marker=\".\")\n",
    "plt.xlabel(\"wpct\")\n",
    "plt.ylabel(\"pyth_wpct\")\n",
    "plt.title(\"Correlation: wpct vs pyth_wpct\", fontsize=15)"
   ]
  },
  {
   "cell_type": "markdown",
   "metadata": {},
   "source": [
    "Fit a logistic regression on win on Pythagorean Winning Percentage."
   ]
  },
  {
   "cell_type": "code",
   "execution_count": 28,
   "metadata": {},
   "outputs": [
    {
     "data": {
      "text/html": [
       "<table class=\"simpletable\">\n",
       "<caption>Generalized Linear Model Regression Results</caption>\n",
       "<tr>\n",
       "  <th>Dep. Variable:</th>         <td>wpct</td>       <th>  No. Observations:  </th>  <td>  1148</td> \n",
       "</tr>\n",
       "<tr>\n",
       "  <th>Model:</th>                  <td>GLM</td>       <th>  Df Residuals:      </th>  <td>  1146</td> \n",
       "</tr>\n",
       "<tr>\n",
       "  <th>Model Family:</th>        <td>Binomial</td>     <th>  Df Model:          </th>  <td>     1</td> \n",
       "</tr>\n",
       "<tr>\n",
       "  <th>Link Function:</th>         <td>logit</td>      <th>  Scale:             </th> <td>  1.0000</td>\n",
       "</tr>\n",
       "<tr>\n",
       "  <th>Method:</th>                <td>IRLS</td>       <th>  Log-Likelihood:    </th> <td> -494.72</td>\n",
       "</tr>\n",
       "<tr>\n",
       "  <th>Date:</th>            <td>Sun, 17 Mar 2024</td> <th>  Deviance:          </th> <td>  9.0501</td>\n",
       "</tr>\n",
       "<tr>\n",
       "  <th>Time:</th>                <td>04:49:17</td>     <th>  Pearson chi2:      </th>  <td>  9.03</td> \n",
       "</tr>\n",
       "<tr>\n",
       "  <th>No. Iterations:</th>          <td>4</td>        <th>                     </th>     <td> </td>   \n",
       "</tr>\n",
       "<tr>\n",
       "  <th>Covariance Type:</th>     <td>nonrobust</td>    <th>                     </th>     <td> </td>   \n",
       "</tr>\n",
       "</table>\n",
       "<table class=\"simpletable\">\n",
       "<tr>\n",
       "      <td></td>         <th>coef</th>     <th>std err</th>      <th>z</th>      <th>P>|z|</th>  <th>[0.025</th>    <th>0.975]</th>  \n",
       "</tr>\n",
       "<tr>\n",
       "  <th>Intercept</th> <td>  -14.5647</td> <td>    1.578</td> <td>   -9.230</td> <td> 0.000</td> <td>  -17.657</td> <td>  -11.472</td>\n",
       "</tr>\n",
       "<tr>\n",
       "  <th>pyth_wpct</th> <td>   29.1290</td> <td>    3.153</td> <td>    9.240</td> <td> 0.000</td> <td>   22.950</td> <td>   35.308</td>\n",
       "</tr>\n",
       "</table>"
      ],
      "text/plain": [
       "<class 'statsmodels.iolib.summary.Summary'>\n",
       "\"\"\"\n",
       "                 Generalized Linear Model Regression Results                  \n",
       "==============================================================================\n",
       "Dep. Variable:                   wpct   No. Observations:                 1148\n",
       "Model:                            GLM   Df Residuals:                     1146\n",
       "Model Family:                Binomial   Df Model:                            1\n",
       "Link Function:                  logit   Scale:                          1.0000\n",
       "Method:                          IRLS   Log-Likelihood:                -494.72\n",
       "Date:                Sun, 17 Mar 2024   Deviance:                       9.0501\n",
       "Time:                        04:49:17   Pearson chi2:                     9.03\n",
       "No. Iterations:                     4                                         \n",
       "Covariance Type:            nonrobust                                         \n",
       "==============================================================================\n",
       "                 coef    std err          z      P>|z|      [0.025      0.975]\n",
       "------------------------------------------------------------------------------\n",
       "Intercept    -14.5647      1.578     -9.230      0.000     -17.657     -11.472\n",
       "pyth_wpct     29.1290      3.153      9.240      0.000      22.950      35.308\n",
       "==============================================================================\n",
       "\"\"\""
      ]
     },
     "execution_count": 28,
     "metadata": {},
     "output_type": "execute_result"
    }
   ],
   "source": [
    "NBA_2017_combined_logit = smf.glm(formula = \"wpct ~ pyth_wpct\", data = NBA_2017_combined, family = sm.families.Binomial()).fit()\n",
    "NBA_2017_combined_logit.summary()"
   ]
  },
  {
   "cell_type": "markdown",
   "metadata": {},
   "source": [
    "Print the results including coefficients, p-values, and dependent variable"
   ]
  },
  {
   "cell_type": "code",
   "execution_count": 29,
   "metadata": {},
   "outputs": [
    {
     "name": "stdout",
     "output_type": "stream",
     "text": [
      "Coefficients\n",
      "Intercept   -14.56473\n",
      "pyth_wpct    29.12896\n",
      "dtype: float64\n",
      "p-Values\n",
      "Intercept    2.704392e-20\n",
      "pyth_wpct    2.466496e-20\n",
      "dtype: float64\n",
      "Dependent variables\n",
      "wpct\n"
     ]
    }
   ],
   "source": [
    "print(\"Coefficients\")\n",
    "print(NBA_2017_combined_logit.params)\n",
    "print(\"p-Values\")\n",
    "print(NBA_2017_combined_logit.pvalues)\n",
    "print(\"Dependent variables\")\n",
    "print(NBA_2017_combined_logit.model.endog_names)"
   ]
  },
  {
   "cell_type": "markdown",
   "metadata": {},
   "source": [
    "Obtain the fitted results using the logistic regression model"
   ]
  },
  {
   "cell_type": "code",
   "execution_count": 31,
   "metadata": {},
   "outputs": [
    {
     "data": {
      "text/plain": [
       "array([0.32227936, 0.32227936, 0.32227936, ..., 0.50581868, 0.50581868,\n",
       "       0.50581868])"
      ]
     },
     "execution_count": 31,
     "metadata": {},
     "output_type": "execute_result"
    }
   ],
   "source": [
    "# fit the model to calculate probabilities of winning on each game\n",
    "estimated_wpct = NBA_2017_combined_logit.predict()\n",
    "estimated_wpct"
   ]
  },
  {
   "cell_type": "code",
   "execution_count": 32,
   "metadata": {},
   "outputs": [
    {
     "data": {
      "text/plain": [
       "[0, 0, 0, 0, 0, 0, 0, 0, 0, 0]"
      ]
     },
     "execution_count": 32,
     "metadata": {},
     "output_type": "execute_result"
    }
   ],
   "source": [
    "fittedWin = [1 if x > .5 else 0 for x in estimated_wpct]\n",
    "fittedWin[0:10]"
   ]
  },
  {
   "cell_type": "markdown",
   "metadata": {},
   "source": [
    "Calculate the success rate"
   ]
  },
  {
   "cell_type": "code",
   "execution_count": 34,
   "metadata": {},
   "outputs": [
    {
     "data": {
      "text/plain": [
       "array([[270, 209],\n",
       "       [206, 463]])"
      ]
     },
     "execution_count": 34,
     "metadata": {},
     "output_type": "execute_result"
    }
   ],
   "source": [
    "from sklearn.metrics import confusion_matrix, classification_report\n",
    "confusion_matrix(NBA_2017_combined[\"home_WIN\"], fittedWin)"
   ]
  },
  {
   "cell_type": "code",
   "execution_count": 35,
   "metadata": {},
   "outputs": [
    {
     "name": "stdout",
     "output_type": "stream",
     "text": [
      "Success Rate: 63.85%\n"
     ]
    }
   ],
   "source": [
    "Success_Rate = round( (270+463)/(270+463+209+206)*100, 2)\n",
    "print( \"Success Rate: \" + str( Success_Rate ) + \"%\" )"
   ]
  },
  {
   "cell_type": "markdown",
   "metadata": {},
   "source": [
    "Fit multiple logistic regression by incorporating the home team advantage."
   ]
  },
  {
   "cell_type": "code",
   "execution_count": 42,
   "metadata": {},
   "outputs": [
    {
     "data": {
      "text/html": [
       "<table class=\"simpletable\">\n",
       "<caption>Generalized Linear Model Regression Results</caption>\n",
       "<tr>\n",
       "  <th>Dep. Variable:</th>         <td>wpct</td>       <th>  No. Observations:  </th>  <td>  1148</td> \n",
       "</tr>\n",
       "<tr>\n",
       "  <th>Model:</th>                  <td>GLM</td>       <th>  Df Residuals:      </th>  <td>  1146</td> \n",
       "</tr>\n",
       "<tr>\n",
       "  <th>Model Family:</th>        <td>Binomial</td>     <th>  Df Model:          </th>  <td>     1</td> \n",
       "</tr>\n",
       "<tr>\n",
       "  <th>Link Function:</th>         <td>logit</td>      <th>  Scale:             </th> <td>  1.0000</td>\n",
       "</tr>\n",
       "<tr>\n",
       "  <th>Method:</th>                <td>IRLS</td>       <th>  Log-Likelihood:    </th> <td> -494.72</td>\n",
       "</tr>\n",
       "<tr>\n",
       "  <th>Date:</th>            <td>Sun, 17 Mar 2024</td> <th>  Deviance:          </th> <td>  9.0501</td>\n",
       "</tr>\n",
       "<tr>\n",
       "  <th>Time:</th>                <td>04:55:10</td>     <th>  Pearson chi2:      </th>  <td>  9.03</td> \n",
       "</tr>\n",
       "<tr>\n",
       "  <th>No. Iterations:</th>         <td>100</td>       <th>                     </th>     <td> </td>   \n",
       "</tr>\n",
       "<tr>\n",
       "  <th>Covariance Type:</th>     <td>nonrobust</td>    <th>                     </th>     <td> </td>   \n",
       "</tr>\n",
       "</table>\n",
       "<table class=\"simpletable\">\n",
       "<tr>\n",
       "      <td></td>         <th>coef</th>     <th>std err</th>      <th>z</th>      <th>P>|z|</th>  <th>[0.025</th>    <th>0.975]</th>  \n",
       "</tr>\n",
       "<tr>\n",
       "  <th>Intercept</th> <td>   -7.2824</td> <td>    0.789</td> <td>   -9.230</td> <td> 0.000</td> <td>   -8.829</td> <td>   -5.736</td>\n",
       "</tr>\n",
       "<tr>\n",
       "  <th>pyth_wpct</th> <td>   29.1290</td> <td>    3.152</td> <td>    9.240</td> <td> 0.000</td> <td>   22.950</td> <td>   35.308</td>\n",
       "</tr>\n",
       "<tr>\n",
       "  <th>home_HOME</th> <td>   -7.2824</td> <td>    0.789</td> <td>   -9.230</td> <td> 0.000</td> <td>   -8.829</td> <td>   -5.736</td>\n",
       "</tr>\n",
       "</table>"
      ],
      "text/plain": [
       "<class 'statsmodels.iolib.summary.Summary'>\n",
       "\"\"\"\n",
       "                 Generalized Linear Model Regression Results                  \n",
       "==============================================================================\n",
       "Dep. Variable:                   wpct   No. Observations:                 1148\n",
       "Model:                            GLM   Df Residuals:                     1146\n",
       "Model Family:                Binomial   Df Model:                            1\n",
       "Link Function:                  logit   Scale:                          1.0000\n",
       "Method:                          IRLS   Log-Likelihood:                -494.72\n",
       "Date:                Sun, 17 Mar 2024   Deviance:                       9.0501\n",
       "Time:                        04:55:10   Pearson chi2:                     9.03\n",
       "No. Iterations:                   100                                         \n",
       "Covariance Type:            nonrobust                                         \n",
       "==============================================================================\n",
       "                 coef    std err          z      P>|z|      [0.025      0.975]\n",
       "------------------------------------------------------------------------------\n",
       "Intercept     -7.2824      0.789     -9.230      0.000      -8.829      -5.736\n",
       "pyth_wpct     29.1290      3.152      9.240      0.000      22.950      35.308\n",
       "home_HOME     -7.2824      0.789     -9.230      0.000      -8.829      -5.736\n",
       "==============================================================================\n",
       "\"\"\""
      ]
     },
     "execution_count": 42,
     "metadata": {},
     "output_type": "execute_result"
    }
   ],
   "source": [
    "NBA_2017_HOME_logit = smf.glm(formula = \"wpct ~ pyth_wpct + home_HOME\", data = NBA_2017_combined, family = sm.families.Binomial()).fit()\n",
    "NBA_2017_HOME_logit.summary()"
   ]
  },
  {
   "cell_type": "markdown",
   "metadata": {},
   "source": [
    "Obtain the fitted results using the logistic regression model"
   ]
  },
  {
   "cell_type": "code",
   "execution_count": 43,
   "metadata": {},
   "outputs": [
    {
     "data": {
      "text/plain": [
       "[0, 0, 0, 0, 0, 0, 0, 0, 0, 0]"
      ]
     },
     "execution_count": 43,
     "metadata": {},
     "output_type": "execute_result"
    }
   ],
   "source": [
    "estimated_Wpct_2 = NBA_2017_HOME_logit.predict()\n",
    "fittedWin_2 = [1 if x > .5 else 0 for x in estimated_Wpct_2]\n",
    "fittedWin_2[0:10]"
   ]
  },
  {
   "cell_type": "markdown",
   "metadata": {},
   "source": [
    "Obtain the success rate."
   ]
  },
  {
   "cell_type": "code",
   "execution_count": 44,
   "metadata": {},
   "outputs": [
    {
     "data": {
      "text/plain": [
       "array([[270, 209],\n",
       "       [206, 463]])"
      ]
     },
     "execution_count": 44,
     "metadata": {},
     "output_type": "execute_result"
    }
   ],
   "source": [
    "confusion_matrix(NBA_2017_combined[\"home_WIN\"], fittedWin_2)"
   ]
  },
  {
   "cell_type": "code",
   "execution_count": 45,
   "metadata": {},
   "outputs": [
    {
     "name": "stdout",
     "output_type": "stream",
     "text": [
      "Success Rate: 63.85%\n"
     ]
    }
   ],
   "source": [
    "Success_Rate_2 = round( (270+463)/(270+463+209+206)*100, 2)\n",
    "print( \"Success Rate: \" + str( Success_Rate_2 ) + \"%\" )"
   ]
  }
 ],
 "metadata": {
  "kernelspec": {
   "display_name": "Python 3 (ipykernel)",
   "language": "python",
   "name": "python3"
  },
  "language_info": {
   "codemirror_mode": {
    "name": "ipython",
    "version": 3
   },
   "file_extension": ".py",
   "mimetype": "text/x-python",
   "name": "python",
   "nbconvert_exporter": "python",
   "pygments_lexer": "ipython3",
   "version": "3.11.5"
  }
 },
 "nbformat": 4,
 "nbformat_minor": 2
}
