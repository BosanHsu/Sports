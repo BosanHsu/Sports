{
 "cells": [
  {
   "cell_type": "code",
   "execution_count": 1,
   "metadata": {},
   "outputs": [],
   "source": [
    "#Load packages\n",
    "import pandas as pd\n",
    "import numpy as np"
   ]
  },
  {
   "cell_type": "markdown",
   "metadata": {},
   "source": [
    "# I. Coding Run Expectancy Dataset (2017)"
   ]
  },
  {
   "cell_type": "code",
   "execution_count": 4,
   "metadata": {},
   "outputs": [],
   "source": [
    "# Read in MLBAM Data for 2017\n",
    "\n",
    "MLBAM17 = pd.read_csv(\"../Data/MLBAM17.csv\")"
   ]
  },
  {
   "cell_type": "code",
   "execution_count": 5,
   "metadata": {},
   "outputs": [
    {
     "data": {
      "text/html": [
       "<div>\n",
       "<style scoped>\n",
       "    .dataframe tbody tr th:only-of-type {\n",
       "        vertical-align: middle;\n",
       "    }\n",
       "\n",
       "    .dataframe tbody tr th {\n",
       "        vertical-align: top;\n",
       "    }\n",
       "\n",
       "    .dataframe thead th {\n",
       "        text-align: right;\n",
       "    }\n",
       "</style>\n",
       "<table border=\"1\" class=\"dataframe\">\n",
       "  <thead>\n",
       "    <tr style=\"text-align: right;\">\n",
       "      <th></th>\n",
       "      <th>batterName</th>\n",
       "      <th>batterId</th>\n",
       "      <th>event</th>\n",
       "      <th>start1B</th>\n",
       "      <th>start2B</th>\n",
       "      <th>start3B</th>\n",
       "      <th>end1B</th>\n",
       "      <th>end2B</th>\n",
       "      <th>end3B</th>\n",
       "      <th>startOuts</th>\n",
       "      <th>endOuts</th>\n",
       "      <th>runsFuture</th>\n",
       "      <th>runsOnPlay</th>\n",
       "      <th>outsInInning</th>\n",
       "      <th>stand</th>\n",
       "      <th>throws</th>\n",
       "      <th>venueId</th>\n",
       "      <th>stadium</th>\n",
       "      <th>batterPos</th>\n",
       "    </tr>\n",
       "  </thead>\n",
       "  <tbody>\n",
       "    <tr>\n",
       "      <th>0</th>\n",
       "      <td>Gardner</td>\n",
       "      <td>458731</td>\n",
       "      <td>Flyout</td>\n",
       "      <td>NaN</td>\n",
       "      <td>NaN</td>\n",
       "      <td>NaN</td>\n",
       "      <td>NaN</td>\n",
       "      <td>NaN</td>\n",
       "      <td>NaN</td>\n",
       "      <td>0</td>\n",
       "      <td>1</td>\n",
       "      <td>0</td>\n",
       "      <td>0</td>\n",
       "      <td>3</td>\n",
       "      <td>L</td>\n",
       "      <td>R</td>\n",
       "      <td>12</td>\n",
       "      <td>Tropicana Field</td>\n",
       "      <td>LF</td>\n",
       "    </tr>\n",
       "    <tr>\n",
       "      <th>1</th>\n",
       "      <td>Sanchez, G</td>\n",
       "      <td>596142</td>\n",
       "      <td>Groundout</td>\n",
       "      <td>NaN</td>\n",
       "      <td>NaN</td>\n",
       "      <td>NaN</td>\n",
       "      <td>NaN</td>\n",
       "      <td>NaN</td>\n",
       "      <td>NaN</td>\n",
       "      <td>1</td>\n",
       "      <td>2</td>\n",
       "      <td>0</td>\n",
       "      <td>0</td>\n",
       "      <td>3</td>\n",
       "      <td>R</td>\n",
       "      <td>R</td>\n",
       "      <td>12</td>\n",
       "      <td>Tropicana Field</td>\n",
       "      <td>C</td>\n",
       "    </tr>\n",
       "    <tr>\n",
       "      <th>2</th>\n",
       "      <td>Bird</td>\n",
       "      <td>595885</td>\n",
       "      <td>Walk</td>\n",
       "      <td>NaN</td>\n",
       "      <td>NaN</td>\n",
       "      <td>NaN</td>\n",
       "      <td>595885.0</td>\n",
       "      <td>NaN</td>\n",
       "      <td>NaN</td>\n",
       "      <td>2</td>\n",
       "      <td>2</td>\n",
       "      <td>0</td>\n",
       "      <td>0</td>\n",
       "      <td>3</td>\n",
       "      <td>L</td>\n",
       "      <td>R</td>\n",
       "      <td>12</td>\n",
       "      <td>Tropicana Field</td>\n",
       "      <td>1B</td>\n",
       "    </tr>\n",
       "    <tr>\n",
       "      <th>3</th>\n",
       "      <td>Holliday</td>\n",
       "      <td>407812</td>\n",
       "      <td>Groundout</td>\n",
       "      <td>595885.0</td>\n",
       "      <td>NaN</td>\n",
       "      <td>NaN</td>\n",
       "      <td>NaN</td>\n",
       "      <td>NaN</td>\n",
       "      <td>NaN</td>\n",
       "      <td>2</td>\n",
       "      <td>3</td>\n",
       "      <td>0</td>\n",
       "      <td>0</td>\n",
       "      <td>3</td>\n",
       "      <td>R</td>\n",
       "      <td>R</td>\n",
       "      <td>12</td>\n",
       "      <td>Tropicana Field</td>\n",
       "      <td>DH</td>\n",
       "    </tr>\n",
       "    <tr>\n",
       "      <th>4</th>\n",
       "      <td>Dickerson, C</td>\n",
       "      <td>572816</td>\n",
       "      <td>Single</td>\n",
       "      <td>NaN</td>\n",
       "      <td>NaN</td>\n",
       "      <td>NaN</td>\n",
       "      <td>572816.0</td>\n",
       "      <td>NaN</td>\n",
       "      <td>NaN</td>\n",
       "      <td>0</td>\n",
       "      <td>0</td>\n",
       "      <td>3</td>\n",
       "      <td>0</td>\n",
       "      <td>3</td>\n",
       "      <td>L</td>\n",
       "      <td>R</td>\n",
       "      <td>12</td>\n",
       "      <td>Tropicana Field</td>\n",
       "      <td>DH</td>\n",
       "    </tr>\n",
       "  </tbody>\n",
       "</table>\n",
       "</div>"
      ],
      "text/plain": [
       "     batterName  batterId      event   start1B  start2B  start3B     end1B  \\\n",
       "0       Gardner    458731     Flyout       NaN      NaN      NaN       NaN   \n",
       "1    Sanchez, G    596142  Groundout       NaN      NaN      NaN       NaN   \n",
       "2          Bird    595885       Walk       NaN      NaN      NaN  595885.0   \n",
       "3      Holliday    407812  Groundout  595885.0      NaN      NaN       NaN   \n",
       "4  Dickerson, C    572816     Single       NaN      NaN      NaN  572816.0   \n",
       "\n",
       "   end2B  end3B  startOuts  endOuts  runsFuture  runsOnPlay  outsInInning  \\\n",
       "0    NaN    NaN          0        1           0           0             3   \n",
       "1    NaN    NaN          1        2           0           0             3   \n",
       "2    NaN    NaN          2        2           0           0             3   \n",
       "3    NaN    NaN          2        3           0           0             3   \n",
       "4    NaN    NaN          0        0           3           0             3   \n",
       "\n",
       "  stand throws  venueId          stadium batterPos  \n",
       "0     L      R       12  Tropicana Field        LF  \n",
       "1     R      R       12  Tropicana Field         C  \n",
       "2     L      R       12  Tropicana Field        1B  \n",
       "3     R      R       12  Tropicana Field        DH  \n",
       "4     L      R       12  Tropicana Field        DH  "
      ]
     },
     "execution_count": 5,
     "metadata": {},
     "output_type": "execute_result"
    }
   ],
   "source": [
    "# Keep only the relevant columns\n",
    "RE17 = MLBAM17[['batterName','batterId','event', 'start1B', 'start2B', 'start3B', 'end1B', 'end2B', 'end3B',\\\n",
    "                   'startOuts','endOuts','runsFuture','runsOnPlay','outsInInning',\\\n",
    "                   'stand', 'throws','venueId', 'stadium', 'batterPos']].copy()\n",
    "\n",
    "RE17.head()        "
   ]
  },
  {
   "cell_type": "code",
   "execution_count": 6,
   "metadata": {},
   "outputs": [],
   "source": [
    "# Create three indicator variables (one for each base) to denote whether or not each base is occupied prior to the plate appearance\n",
    "RE17['Start1'] = np.where(pd.isnull(RE17['start1B']),0,1)\n",
    "RE17['Start2'] = np.where(pd.isnull(RE17['start2B']),0,1)\n",
    "RE17['Start3'] = np.where(pd.isnull(RE17['start3B']),0,1)"
   ]
  },
  {
   "cell_type": "code",
   "execution_count": 7,
   "metadata": {},
   "outputs": [
    {
     "data": {
      "text/plain": [
       "0    000 0\n",
       "1    000 1\n",
       "2    000 2\n",
       "3    100 2\n",
       "4    000 0\n",
       "Name: Start_State, dtype: object"
      ]
     },
     "execution_count": 7,
     "metadata": {},
     "output_type": "execute_result"
    }
   ],
   "source": [
    "# Create a “start state” variable to denote the base out state prior to each plate appearance\n",
    "RE17['Start_State'] = (RE17['Start1'].astype(str) + RE17['Start2'].astype(str) + RE17['Start3'].astype(str)+\\\n",
    "                          \" \" + RE17['startOuts'].astype(str))\n",
    "RE17['Start_State'].head()"
   ]
  },
  {
   "cell_type": "code",
   "execution_count": 8,
   "metadata": {},
   "outputs": [],
   "source": [
    "# Create three indicator variables (one for each base) to denote whether or not each base is occupied after the plate appearance\n",
    "RE17['End1'] = np.where(pd.isnull(RE17['end1B']),0,1)\n",
    "RE17['End2'] = np.where(pd.isnull(RE17['end2B']),0,1)\n",
    "RE17['End3'] = np.where(pd.isnull(RE17['end3B']),0,1)"
   ]
  },
  {
   "cell_type": "code",
   "execution_count": 9,
   "metadata": {},
   "outputs": [],
   "source": [
    "# Create an “end state” variable to denote the base out state after each plate appearance \n",
    "RE17['End_State'] = (RE17['End1'].astype(str) + RE17['End2'].astype(str) + RE17['End3'].astype(str) + \\\n",
    "                        \" \" + RE17['endOuts'].astype(str))"
   ]
  },
  {
   "cell_type": "code",
   "execution_count": 10,
   "metadata": {},
   "outputs": [],
   "source": [
    "# Restrict data to plays where either there is a change in state/runs scored\n",
    "# and innings in which there were exactly 3 outs recorded\n",
    "RE17 = RE17[((RE17[\"Start_State\"] != RE17[\"End_State\"]) | (RE17[\"runsOnPlay\"] > 0)) & (RE17[\"outsInInning\"] == 3)]"
   ]
  },
  {
   "cell_type": "markdown",
   "metadata": {},
   "source": [
    "The MLBAM data conveniently includes the value of the runs scored from the beginning of each event to the end of the team's inning - this is the variable 'runsFuture'. So now we can simply use .groupby to calculate the average number of runs scored in the 24 starting states we have coded."
   ]
  },
  {
   "cell_type": "code",
   "execution_count": 14,
   "metadata": {},
   "outputs": [
    {
     "data": {
      "text/html": [
       "<div>\n",
       "<style scoped>\n",
       "    .dataframe tbody tr th:only-of-type {\n",
       "        vertical-align: middle;\n",
       "    }\n",
       "\n",
       "    .dataframe tbody tr th {\n",
       "        vertical-align: top;\n",
       "    }\n",
       "\n",
       "    .dataframe thead th {\n",
       "        text-align: right;\n",
       "    }\n",
       "</style>\n",
       "<table border=\"1\" class=\"dataframe\">\n",
       "  <thead>\n",
       "    <tr style=\"text-align: right;\">\n",
       "      <th></th>\n",
       "      <th>Start_State</th>\n",
       "      <th>Start_RE</th>\n",
       "    </tr>\n",
       "  </thead>\n",
       "  <tbody>\n",
       "    <tr>\n",
       "      <th>0</th>\n",
       "      <td>000 0</td>\n",
       "      <td>0.516375</td>\n",
       "    </tr>\n",
       "    <tr>\n",
       "      <th>1</th>\n",
       "      <td>000 1</td>\n",
       "      <td>0.272176</td>\n",
       "    </tr>\n",
       "    <tr>\n",
       "      <th>2</th>\n",
       "      <td>000 2</td>\n",
       "      <td>0.108038</td>\n",
       "    </tr>\n",
       "    <tr>\n",
       "      <th>3</th>\n",
       "      <td>001 0</td>\n",
       "      <td>1.436482</td>\n",
       "    </tr>\n",
       "    <tr>\n",
       "      <th>4</th>\n",
       "      <td>001 1</td>\n",
       "      <td>0.953586</td>\n",
       "    </tr>\n",
       "  </tbody>\n",
       "</table>\n",
       "</div>"
      ],
      "text/plain": [
       "  Start_State  Start_RE\n",
       "0       000 0  0.516375\n",
       "1       000 1  0.272176\n",
       "2       000 2  0.108038\n",
       "3       001 0  1.436482\n",
       "4       001 1  0.953586"
      ]
     },
     "execution_count": 14,
     "metadata": {},
     "output_type": "execute_result"
    }
   ],
   "source": [
    "# Calculate run expectancy by starting state and merge this into play by play data\n",
    "Start_RunExp = RE17.groupby(['Start_State'])['runsFuture'].mean().reset_index().rename(columns={'runsFuture':'Start_RE'})\n",
    "Start_RunExp.head()\n",
    "RE17 = pd.merge(RE17, Start_RunExp, on=['Start_State'], how='left')"
   ]
  },
  {
   "cell_type": "markdown",
   "metadata": {},
   "source": [
    "A team's inning ends when there are three outs, but can never start with three outs. To calculate the run value of an event we need to include the run expectancy of these states, which is by definition is zero, since no more runs can be scored when the inning is ended. Thus we can define End_RunExp as being equal to Start_RunExp, only with the eight extra three outs states, each with zero run expectancy. So now we create those states and append them to the Start_RunExp df and rename it as End_RunExp."
   ]
  },
  {
   "cell_type": "code",
   "execution_count": 15,
   "metadata": {},
   "outputs": [
    {
     "data": {
      "text/plain": [
       "[Start_State    000 3\n",
       " Start_RE           0\n",
       " dtype: object, Start_State    001 3\n",
       " Start_RE           0\n",
       " dtype: object, Start_State    010 3\n",
       " Start_RE           0\n",
       " dtype: object, Start_State    011 3\n",
       " Start_RE           0\n",
       " dtype: object, Start_State    100 3\n",
       " Start_RE           0\n",
       " dtype: object, Start_State    101 3\n",
       " Start_RE           0\n",
       " dtype: object, Start_State    110 3\n",
       " Start_RE           0\n",
       " dtype: object, Start_State    111 3\n",
       " Start_RE           0\n",
       " dtype: object]"
      ]
     },
     "execution_count": 15,
     "metadata": {},
     "output_type": "execute_result"
    }
   ],
   "source": [
    "# Using the run expectancy data by starting state, create a variable to denote run expectancy by ending state\n",
    "#(in addition, make sure to include the base out states\n",
    "# for which there are 3 outs with run expectancies of 0 to the run expectancy by ending state data) \n",
    "\n",
    "Base_State_3 = [pd.Series(['000 3', 0], index=Start_RunExp.columns),\n",
    "                pd.Series(['001 3', 0], index=Start_RunExp.columns),\n",
    "                pd.Series(['010 3', 0], index=Start_RunExp.columns),\n",
    "                pd.Series(['011 3', 0], index=Start_RunExp.columns),\n",
    "                pd.Series(['100 3', 0], index=Start_RunExp.columns),\n",
    "                pd.Series(['101 3', 0], index=Start_RunExp.columns),\n",
    "                pd.Series(['110 3', 0], index=Start_RunExp.columns),\n",
    "                pd.Series(['111 3', 0], index=Start_RunExp.columns)]\n",
    "\n",
    "Base_State_3"
   ]
  },
  {
   "cell_type": "code",
   "execution_count": 17,
   "metadata": {},
   "outputs": [
    {
     "data": {
      "text/html": [
       "<div>\n",
       "<style scoped>\n",
       "    .dataframe tbody tr th:only-of-type {\n",
       "        vertical-align: middle;\n",
       "    }\n",
       "\n",
       "    .dataframe tbody tr th {\n",
       "        vertical-align: top;\n",
       "    }\n",
       "\n",
       "    .dataframe thead th {\n",
       "        text-align: right;\n",
       "    }\n",
       "</style>\n",
       "<table border=\"1\" class=\"dataframe\">\n",
       "  <thead>\n",
       "    <tr style=\"text-align: right;\">\n",
       "      <th></th>\n",
       "      <th>Start_State</th>\n",
       "      <th>Start_RE</th>\n",
       "    </tr>\n",
       "  </thead>\n",
       "  <tbody>\n",
       "    <tr>\n",
       "      <th>22</th>\n",
       "      <td>111 1</td>\n",
       "      <td>1.635608</td>\n",
       "    </tr>\n",
       "    <tr>\n",
       "      <th>23</th>\n",
       "      <td>111 2</td>\n",
       "      <td>0.804609</td>\n",
       "    </tr>\n",
       "    <tr>\n",
       "      <th>24</th>\n",
       "      <td>000 3</td>\n",
       "      <td>0.000000</td>\n",
       "    </tr>\n",
       "    <tr>\n",
       "      <th>25</th>\n",
       "      <td>001 3</td>\n",
       "      <td>0.000000</td>\n",
       "    </tr>\n",
       "    <tr>\n",
       "      <th>26</th>\n",
       "      <td>010 3</td>\n",
       "      <td>0.000000</td>\n",
       "    </tr>\n",
       "    <tr>\n",
       "      <th>27</th>\n",
       "      <td>011 3</td>\n",
       "      <td>0.000000</td>\n",
       "    </tr>\n",
       "    <tr>\n",
       "      <th>28</th>\n",
       "      <td>100 3</td>\n",
       "      <td>0.000000</td>\n",
       "    </tr>\n",
       "    <tr>\n",
       "      <th>29</th>\n",
       "      <td>101 3</td>\n",
       "      <td>0.000000</td>\n",
       "    </tr>\n",
       "    <tr>\n",
       "      <th>30</th>\n",
       "      <td>110 3</td>\n",
       "      <td>0.000000</td>\n",
       "    </tr>\n",
       "    <tr>\n",
       "      <th>31</th>\n",
       "      <td>111 3</td>\n",
       "      <td>0.000000</td>\n",
       "    </tr>\n",
       "  </tbody>\n",
       "</table>\n",
       "</div>"
      ],
      "text/plain": [
       "   Start_State  Start_RE\n",
       "22       111 1  1.635608\n",
       "23       111 2  0.804609\n",
       "24       000 3  0.000000\n",
       "25       001 3  0.000000\n",
       "26       010 3  0.000000\n",
       "27       011 3  0.000000\n",
       "28       100 3  0.000000\n",
       "29       101 3  0.000000\n",
       "30       110 3  0.000000\n",
       "31       111 3  0.000000"
      ]
     },
     "execution_count": 17,
     "metadata": {},
     "output_type": "execute_result"
    }
   ],
   "source": [
    "Start_RunExp = Start_RunExp.append(Base_State_3, ignore_index=True)\n",
    "Start_RunExp.tail(10)"
   ]
  },
  {
   "cell_type": "code",
   "execution_count": 19,
   "metadata": {},
   "outputs": [],
   "source": [
    "End_RunExp = Start_RunExp.rename(columns={'Start_State':'End_State', 'Start_RE':'End_RE'})"
   ]
  },
  {
   "cell_type": "code",
   "execution_count": 20,
   "metadata": {},
   "outputs": [],
   "source": [
    "# Merge the ending state run expectancy into the play by play data\n",
    "RE17 = pd.merge(RE17, End_RunExp, on=['End_State'], how='left')"
   ]
  },
  {
   "cell_type": "code",
   "execution_count": 21,
   "metadata": {},
   "outputs": [],
   "source": [
    "# Calculate the run value of each event\n",
    "RE17['Run_Value'] = RE17['runsOnPlay'] + RE17['End_RE'] - RE17['Start_RE']"
   ]
  },
  {
   "cell_type": "markdown",
   "metadata": {},
   "source": [
    "Question 1\n",
    "What percent of plate appearances resulted in fly outs in 2017?"
   ]
  },
  {
   "cell_type": "code",
   "execution_count": 22,
   "metadata": {},
   "outputs": [
    {
     "data": {
      "text/plain": [
       "array(['Flyout', 'Groundout', 'Walk', 'Single', 'Double', 'Sac Fly',\n",
       "       'Lineout', 'Strikeout', 'Home Run', 'Pop Out', 'Forceout',\n",
       "       'Hit By Pitch', 'Field Error', 'Triple', 'Grounded Into DP',\n",
       "       'Double Play', 'Runner Out', 'Sac Bunt', 'Strikeout - DP',\n",
       "       'Bunt Groundout', 'Intent Walk', 'Sac Fly DP',\n",
       "       'Catcher Interference', 'Fielders Choice Out', 'Bunt Pop Out',\n",
       "       'Fielders Choice', 'Fan interference', 'Batter Interference',\n",
       "       'Bunt Lineout', 'Triple Play'], dtype=object)"
      ]
     },
     "execution_count": 22,
     "metadata": {},
     "output_type": "execute_result"
    }
   ],
   "source": [
    "RE17['event'].unique()"
   ]
  },
  {
   "cell_type": "code",
   "execution_count": 24,
   "metadata": {},
   "outputs": [
    {
     "data": {
      "text/plain": [
       "0.10697100421648598"
      ]
     },
     "execution_count": 24,
     "metadata": {},
     "output_type": "execute_result"
    }
   ],
   "source": [
    "len(RE17[ RE17['event'] == 'Flyout' ])/ len(RE17)"
   ]
  },
  {
   "cell_type": "markdown",
   "metadata": {},
   "source": [
    "Question 2\n",
    "How many plate appearances had a starting base state in which the bases were loaded (all bases were occupied)?"
   ]
  },
  {
   "cell_type": "code",
   "execution_count": 26,
   "metadata": {},
   "outputs": [
    {
     "data": {
      "text/plain": [
       "4364"
      ]
     },
     "execution_count": 26,
     "metadata": {},
     "output_type": "execute_result"
    }
   ],
   "source": [
    "len(RE17[(RE17['Start1'] ==1) & (RE17['Start2'] ==1) & (RE17['Start3'] == 1)])"
   ]
  },
  {
   "cell_type": "markdown",
   "metadata": {},
   "source": [
    "Question 3\n",
    "Calculate aggregate strikeouts by player position (that is, aggregate (sum) data at the positional level and not the player level).  What was the highest aggregate strikeout total by position?"
   ]
  },
  {
   "cell_type": "code",
   "execution_count": 30,
   "metadata": {},
   "outputs": [
    {
     "data": {
      "text/html": [
       "<div>\n",
       "<style scoped>\n",
       "    .dataframe tbody tr th:only-of-type {\n",
       "        vertical-align: middle;\n",
       "    }\n",
       "\n",
       "    .dataframe tbody tr th {\n",
       "        vertical-align: top;\n",
       "    }\n",
       "\n",
       "    .dataframe thead th {\n",
       "        text-align: right;\n",
       "    }\n",
       "</style>\n",
       "<table border=\"1\" class=\"dataframe\">\n",
       "  <thead>\n",
       "    <tr style=\"text-align: right;\">\n",
       "      <th></th>\n",
       "      <th>batterPos</th>\n",
       "      <th>S/O</th>\n",
       "    </tr>\n",
       "  </thead>\n",
       "  <tbody>\n",
       "    <tr>\n",
       "      <th>0</th>\n",
       "      <td>1B</td>\n",
       "      <td>4399</td>\n",
       "    </tr>\n",
       "  </tbody>\n",
       "</table>\n",
       "</div>"
      ],
      "text/plain": [
       "  batterPos   S/O\n",
       "0        1B  4399"
      ]
     },
     "execution_count": 30,
     "metadata": {},
     "output_type": "execute_result"
    }
   ],
   "source": [
    "RE17[\"S/O\"] = np.where( RE17[\"event\"] == \"Strikeout\", 1, 0)\n",
    "Batter_Pos_SO = RE17.groupby(\"batterPos\")[\"S/O\"].sum().reset_index()\n",
    "Batter_Pos_SO[ Batter_Pos_SO[\"S/O\"] == Batter_Pos_SO[\"S/O\"].max() ]"
   ]
  },
  {
   "cell_type": "markdown",
   "metadata": {},
   "source": [
    "# II. Coding Run Expectancy Dataset (2016)"
   ]
  },
  {
   "cell_type": "code",
   "execution_count": 31,
   "metadata": {},
   "outputs": [],
   "source": [
    "# Read in MLBAM Data for 2016\n",
    "MLBAM16 = pd.read_csv(\"../Data/MLBAM16.csv\")"
   ]
  },
  {
   "cell_type": "code",
   "execution_count": 32,
   "metadata": {},
   "outputs": [],
   "source": [
    "# Keep only the relevant columns (see exercise notebook)\n",
    "RE16 = MLBAM16[['batterName','batterId','event', 'start1B', 'start2B', 'start3B', 'end1B', 'end2B', 'end3B',\\\n",
    "                   'startOuts','endOuts','runsFuture','runsOnPlay','outsInInning',\\\n",
    "                   'stand', 'throws','venueId', 'stadium', 'batterPos']].copy()"
   ]
  },
  {
   "cell_type": "code",
   "execution_count": 33,
   "metadata": {},
   "outputs": [],
   "source": [
    "# Create three indicator variables (one for each base) to denote\n",
    "# whether or not each base is occupied prior to the plate appearance\n",
    "RE16['Start1'] = np.where(pd.isnull(RE16['start1B']),0,1)\n",
    "RE16['Start2'] = np.where(pd.isnull(RE16['start2B']),0,1)\n",
    "RE16['Start3'] = np.where(pd.isnull(RE16['start3B']),0,1)"
   ]
  },
  {
   "cell_type": "code",
   "execution_count": 34,
   "metadata": {},
   "outputs": [
    {
     "data": {
      "text/plain": [
       "0    000 0\n",
       "1    000 1\n",
       "2    000 2\n",
       "3    000 0\n",
       "4    000 1\n",
       "Name: Start_State, dtype: object"
      ]
     },
     "execution_count": 34,
     "metadata": {},
     "output_type": "execute_result"
    }
   ],
   "source": [
    "# Create a “start state” variable to denote the base out state prior to each plate appearance\n",
    "RE16['Start_State'] = (RE16['Start1'].astype(str) + RE16['Start2'].astype(str) + RE16['Start3'].astype(str)+\\\n",
    "                          \" \" + RE16['startOuts'].astype(str))\n",
    "RE16['Start_State'].head()"
   ]
  },
  {
   "cell_type": "code",
   "execution_count": 35,
   "metadata": {},
   "outputs": [],
   "source": [
    "# Create three indicator variables (one for each base) to denote whether or not each base is occupied after the plate appearance\n",
    "RE16['End1'] = np.where(pd.isnull(RE16['end1B']),0,1)\n",
    "RE16['End2'] = np.where(pd.isnull(RE16['end2B']),0,1)\n",
    "RE16['End3'] = np.where(pd.isnull(RE16['end3B']),0,1)"
   ]
  },
  {
   "cell_type": "code",
   "execution_count": 36,
   "metadata": {},
   "outputs": [],
   "source": [
    "# Create an “end state” variable to denote the base out state after each plate appearance\n",
    "RE16['End_State'] = (RE16['End1'].astype(str) + RE16['End2'].astype(str) + RE16['End3'].astype(str) + \\\n",
    "                        \" \" + RE16['endOuts'].astype(str))"
   ]
  },
  {
   "cell_type": "code",
   "execution_count": 37,
   "metadata": {},
   "outputs": [],
   "source": [
    "# Restrict data to plays where either there is a change in state/runs scored and innings in which there were exactly 3 outs recorded\n",
    "RE16 = RE16[((RE16[\"Start_State\"] != RE16[\"End_State\"]) | (RE16[\"runsOnPlay\"] > 0)) & (RE16[\"outsInInning\"] == 3)]"
   ]
  },
  {
   "cell_type": "code",
   "execution_count": 38,
   "metadata": {},
   "outputs": [],
   "source": [
    "# Calculate run expectancy by starting state and merge this into play by play data\n",
    "Start_RunExp = RE16.groupby(['Start_State'])['runsFuture'].mean().reset_index().rename(columns={'runsFuture':'Start_RE'})\n",
    "Start_RunExp.head()\n",
    "RE16 = pd.merge(RE16, Start_RunExp, on=['Start_State'], how='left')"
   ]
  },
  {
   "cell_type": "code",
   "execution_count": 39,
   "metadata": {},
   "outputs": [],
   "source": [
    "# Using the run expectancy data by starting state, create a variable to denote run expectancy by ending state (in addition, make sure to include the base out states for which there are 3 outs with run expectancies of 0 to the run expectancy by ending state data) \n",
    "\n",
    "Base_State_3 = [pd.Series(['000 3', 0], index=Start_RunExp.columns),\n",
    "                pd.Series(['001 3', 0], index=Start_RunExp.columns),\n",
    "                pd.Series(['010 3', 0], index=Start_RunExp.columns),\n",
    "                pd.Series(['011 3', 0], index=Start_RunExp.columns),\n",
    "                pd.Series(['100 3', 0], index=Start_RunExp.columns),\n",
    "                pd.Series(['101 3', 0], index=Start_RunExp.columns),\n",
    "                pd.Series(['110 3', 0], index=Start_RunExp.columns),\n",
    "                pd.Series(['111 3', 0], index=Start_RunExp.columns)]\n"
   ]
  },
  {
   "cell_type": "code",
   "execution_count": 40,
   "metadata": {},
   "outputs": [
    {
     "data": {
      "text/html": [
       "<div>\n",
       "<style scoped>\n",
       "    .dataframe tbody tr th:only-of-type {\n",
       "        vertical-align: middle;\n",
       "    }\n",
       "\n",
       "    .dataframe tbody tr th {\n",
       "        vertical-align: top;\n",
       "    }\n",
       "\n",
       "    .dataframe thead th {\n",
       "        text-align: right;\n",
       "    }\n",
       "</style>\n",
       "<table border=\"1\" class=\"dataframe\">\n",
       "  <thead>\n",
       "    <tr style=\"text-align: right;\">\n",
       "      <th></th>\n",
       "      <th>Start_State</th>\n",
       "      <th>Start_RE</th>\n",
       "    </tr>\n",
       "  </thead>\n",
       "  <tbody>\n",
       "    <tr>\n",
       "      <th>22</th>\n",
       "      <td>111 1</td>\n",
       "      <td>1.536937</td>\n",
       "    </tr>\n",
       "    <tr>\n",
       "      <th>23</th>\n",
       "      <td>111 2</td>\n",
       "      <td>0.696658</td>\n",
       "    </tr>\n",
       "    <tr>\n",
       "      <th>24</th>\n",
       "      <td>000 3</td>\n",
       "      <td>0.000000</td>\n",
       "    </tr>\n",
       "    <tr>\n",
       "      <th>25</th>\n",
       "      <td>001 3</td>\n",
       "      <td>0.000000</td>\n",
       "    </tr>\n",
       "    <tr>\n",
       "      <th>26</th>\n",
       "      <td>010 3</td>\n",
       "      <td>0.000000</td>\n",
       "    </tr>\n",
       "    <tr>\n",
       "      <th>27</th>\n",
       "      <td>011 3</td>\n",
       "      <td>0.000000</td>\n",
       "    </tr>\n",
       "    <tr>\n",
       "      <th>28</th>\n",
       "      <td>100 3</td>\n",
       "      <td>0.000000</td>\n",
       "    </tr>\n",
       "    <tr>\n",
       "      <th>29</th>\n",
       "      <td>101 3</td>\n",
       "      <td>0.000000</td>\n",
       "    </tr>\n",
       "    <tr>\n",
       "      <th>30</th>\n",
       "      <td>110 3</td>\n",
       "      <td>0.000000</td>\n",
       "    </tr>\n",
       "    <tr>\n",
       "      <th>31</th>\n",
       "      <td>111 3</td>\n",
       "      <td>0.000000</td>\n",
       "    </tr>\n",
       "  </tbody>\n",
       "</table>\n",
       "</div>"
      ],
      "text/plain": [
       "   Start_State  Start_RE\n",
       "22       111 1  1.536937\n",
       "23       111 2  0.696658\n",
       "24       000 3  0.000000\n",
       "25       001 3  0.000000\n",
       "26       010 3  0.000000\n",
       "27       011 3  0.000000\n",
       "28       100 3  0.000000\n",
       "29       101 3  0.000000\n",
       "30       110 3  0.000000\n",
       "31       111 3  0.000000"
      ]
     },
     "execution_count": 40,
     "metadata": {},
     "output_type": "execute_result"
    }
   ],
   "source": [
    "Start_RunExp = Start_RunExp.append(Base_State_3, ignore_index=True)\n",
    "Start_RunExp.tail(10)"
   ]
  },
  {
   "cell_type": "code",
   "execution_count": 41,
   "metadata": {},
   "outputs": [],
   "source": [
    "End_RunExp = Start_RunExp.rename(columns={'Start_State':'End_State', 'Start_RE':'End_RE'})"
   ]
  },
  {
   "cell_type": "code",
   "execution_count": 42,
   "metadata": {},
   "outputs": [],
   "source": [
    "# Merge the ending state run expectancy into the play by play data\n",
    "RE16 = pd.merge(RE16, End_RunExp, on=['End_State'], how='left')"
   ]
  },
  {
   "cell_type": "code",
   "execution_count": 43,
   "metadata": {},
   "outputs": [],
   "source": [
    "# Calculate the run value of each event\n",
    "RE16['Run_Value'] = RE16['runsOnPlay'] + RE16['End_RE'] - RE16['Start_RE']"
   ]
  },
  {
   "cell_type": "markdown",
   "metadata": {},
   "source": [
    "Question 1\n",
    "What percent of plate appearances resulted in ground outs in 2016?"
   ]
  },
  {
   "cell_type": "code",
   "execution_count": 44,
   "metadata": {},
   "outputs": [
    {
     "data": {
      "text/plain": [
       "0.18445088839654197"
      ]
     },
     "execution_count": 44,
     "metadata": {},
     "output_type": "execute_result"
    }
   ],
   "source": [
    "len(RE16[ RE16['event'] == 'Groundout' ])/ len(RE16)"
   ]
  },
  {
   "cell_type": "markdown",
   "metadata": {},
   "source": [
    "Question 2\n",
    "How many plate appearances had a starting base state in which at least one base was occupied?"
   ]
  },
  {
   "cell_type": "code",
   "execution_count": 45,
   "metadata": {},
   "outputs": [
    {
     "data": {
      "text/plain": [
       "80387"
      ]
     },
     "execution_count": 45,
     "metadata": {},
     "output_type": "execute_result"
    }
   ],
   "source": [
    "len(RE16[(RE16['Start1'] ==1) | (RE16['Start2'] ==1) | (RE16['Start3'] == 1)])"
   ]
  },
  {
   "cell_type": "markdown",
   "metadata": {},
   "source": [
    "Question 3\n",
    "Calculate aggregate home runs by player position (that is, aggregate (sum) data at the positional level and not the player level).  What was the highest aggregate home run total by position?"
   ]
  },
  {
   "cell_type": "code",
   "execution_count": 46,
   "metadata": {},
   "outputs": [
    {
     "data": {
      "text/html": [
       "<div>\n",
       "<style scoped>\n",
       "    .dataframe tbody tr th:only-of-type {\n",
       "        vertical-align: middle;\n",
       "    }\n",
       "\n",
       "    .dataframe tbody tr th {\n",
       "        vertical-align: top;\n",
       "    }\n",
       "\n",
       "    .dataframe thead th {\n",
       "        text-align: right;\n",
       "    }\n",
       "</style>\n",
       "<table border=\"1\" class=\"dataframe\">\n",
       "  <thead>\n",
       "    <tr style=\"text-align: right;\">\n",
       "      <th></th>\n",
       "      <th>batterPos</th>\n",
       "      <th>HR</th>\n",
       "    </tr>\n",
       "  </thead>\n",
       "  <tbody>\n",
       "    <tr>\n",
       "      <th>0</th>\n",
       "      <td>1B</td>\n",
       "      <td>797</td>\n",
       "    </tr>\n",
       "  </tbody>\n",
       "</table>\n",
       "</div>"
      ],
      "text/plain": [
       "  batterPos   HR\n",
       "0        1B  797"
      ]
     },
     "execution_count": 46,
     "metadata": {},
     "output_type": "execute_result"
    }
   ],
   "source": [
    "RE16[\"HR\"] = np.where( RE16[\"event\"] == \"Home Run\", 1, 0)\n",
    "Batter_Pos_SO = RE16.groupby(\"batterPos\")[\"HR\"].sum().reset_index()\n",
    "Batter_Pos_SO[ Batter_Pos_SO[\"HR\"] == Batter_Pos_SO[\"HR\"].max() ]"
   ]
  },
  {
   "cell_type": "markdown",
   "metadata": {},
   "source": [
    "# III. Comparing 2016 vs. 2017"
   ]
  },
  {
   "cell_type": "code",
   "execution_count": 48,
   "metadata": {},
   "outputs": [],
   "source": [
    "# Calculate the average run value for each event for both 2016 and 2017.\n",
    "run_value_event_16 = RE16.groupby(\"event\")['Run_Value'].mean().reset_index()\n",
    "run_value_event_17 = RE17.groupby(\"event\")['Run_Value'].mean().reset_index()"
   ]
  },
  {
   "cell_type": "code",
   "execution_count": 49,
   "metadata": {},
   "outputs": [],
   "source": [
    "# Merge the 2016 and 2017 run values by event into one dataframe\n",
    "# (before merging, it may be helpful to rename the run value variables Run_Value16 and Run_Value17 respectively)\n",
    "run_value_event_16 = run_value_event_16.rename(columns={'Run_Value':'RV_16'})\n",
    "run_value_event_17 = run_value_event_17.rename(columns={'Run_Value':'RV_17'})\n",
    "run_value_event = pd.merge( run_value_event_16, run_value_event_17, on = \"event\")"
   ]
  },
  {
   "cell_type": "code",
   "execution_count": 60,
   "metadata": {},
   "outputs": [],
   "source": [
    "# Calculate the aggregate run value (sum) for all players in both 2016 and 2017\n",
    "run_value_player_16 = RE16.groupby(\"batterId\")['Run_Value'].sum().reset_index()\n",
    "run_value_player_17 = RE17.groupby(\"batterId\")['Run_Value'].sum().reset_index()"
   ]
  },
  {
   "cell_type": "code",
   "execution_count": 61,
   "metadata": {},
   "outputs": [],
   "source": [
    "# Merge the 2016 and 2017 run values by player into one dataframe\n",
    "# so that only players appearing in both datasets appear in the merged data\n",
    "# (before merging, it may be helpful to rename the run value variables Run_Value16 and Run_Value17 respectively)\n",
    "run_value_player_16 = run_value_player_16.rename(columns={'Run_Value':'RV_16'})\n",
    "run_value_player_17 = run_value_player_17.rename(columns={'Run_Value':'RV_17'})\n",
    "run_value_player = pd.merge( run_value_player_16, run_value_player_17, on = \"batterId\", how = \"outer\")"
   ]
  },
  {
   "cell_type": "markdown",
   "metadata": {},
   "source": [
    "Question 1\n",
    "What was the highest player run value in 2017?"
   ]
  },
  {
   "cell_type": "code",
   "execution_count": 62,
   "metadata": {},
   "outputs": [
    {
     "data": {
      "text/html": [
       "<div>\n",
       "<style scoped>\n",
       "    .dataframe tbody tr th:only-of-type {\n",
       "        vertical-align: middle;\n",
       "    }\n",
       "\n",
       "    .dataframe tbody tr th {\n",
       "        vertical-align: top;\n",
       "    }\n",
       "\n",
       "    .dataframe thead th {\n",
       "        text-align: right;\n",
       "    }\n",
       "</style>\n",
       "<table border=\"1\" class=\"dataframe\">\n",
       "  <thead>\n",
       "    <tr style=\"text-align: right;\">\n",
       "      <th></th>\n",
       "      <th>batterId</th>\n",
       "      <th>RV_17</th>\n",
       "    </tr>\n",
       "  </thead>\n",
       "  <tbody>\n",
       "    <tr>\n",
       "      <th>169</th>\n",
       "      <td>458015</td>\n",
       "      <td>67.650742</td>\n",
       "    </tr>\n",
       "  </tbody>\n",
       "</table>\n",
       "</div>"
      ],
      "text/plain": [
       "     batterId      RV_17\n",
       "169    458015  67.650742"
      ]
     },
     "execution_count": 62,
     "metadata": {},
     "output_type": "execute_result"
    }
   ],
   "source": [
    "run_value_player_17[ run_value_player_17[\"RV_17\"] == run_value_player_17[\"RV_17\"].max()]"
   ]
  },
  {
   "cell_type": "markdown",
   "metadata": {},
   "source": [
    "Question 2\n",
    "What was the lowest player run value in 2016?"
   ]
  },
  {
   "cell_type": "code",
   "execution_count": 63,
   "metadata": {},
   "outputs": [
    {
     "data": {
      "text/html": [
       "<div>\n",
       "<style scoped>\n",
       "    .dataframe tbody tr th:only-of-type {\n",
       "        vertical-align: middle;\n",
       "    }\n",
       "\n",
       "    .dataframe tbody tr th {\n",
       "        vertical-align: top;\n",
       "    }\n",
       "\n",
       "    .dataframe thead th {\n",
       "        text-align: right;\n",
       "    }\n",
       "</style>\n",
       "<table border=\"1\" class=\"dataframe\">\n",
       "  <thead>\n",
       "    <tr style=\"text-align: right;\">\n",
       "      <th></th>\n",
       "      <th>batterId</th>\n",
       "      <th>RV_16</th>\n",
       "    </tr>\n",
       "  </thead>\n",
       "  <tbody>\n",
       "    <tr>\n",
       "      <th>698</th>\n",
       "      <td>588751</td>\n",
       "      <td>-32.142529</td>\n",
       "    </tr>\n",
       "  </tbody>\n",
       "</table>\n",
       "</div>"
      ],
      "text/plain": [
       "     batterId      RV_16\n",
       "698    588751 -32.142529"
      ]
     },
     "execution_count": 63,
     "metadata": {},
     "output_type": "execute_result"
    }
   ],
   "source": [
    "run_value_player_16[ run_value_player_16[\"RV_16\"] == run_value_player_16[\"RV_16\"].min()]"
   ]
  },
  {
   "cell_type": "markdown",
   "metadata": {},
   "source": [
    "Question 3\n",
    "For each event, calculate the difference in run value between 2017 and 2016 (RV 2017-RV 2016).  Which event saw the largest change (in absolute value) from 2016 to 2017?"
   ]
  },
  {
   "cell_type": "code",
   "execution_count": 64,
   "metadata": {},
   "outputs": [],
   "source": [
    "run_value_event[\"RV_diff\"] = abs(run_value_event[\"RV_17\"] - run_value_event[\"RV_16\"])"
   ]
  },
  {
   "cell_type": "code",
   "execution_count": 65,
   "metadata": {},
   "outputs": [
    {
     "data": {
      "text/html": [
       "<div>\n",
       "<style scoped>\n",
       "    .dataframe tbody tr th:only-of-type {\n",
       "        vertical-align: middle;\n",
       "    }\n",
       "\n",
       "    .dataframe tbody tr th {\n",
       "        vertical-align: top;\n",
       "    }\n",
       "\n",
       "    .dataframe thead th {\n",
       "        text-align: right;\n",
       "    }\n",
       "</style>\n",
       "<table border=\"1\" class=\"dataframe\">\n",
       "  <thead>\n",
       "    <tr style=\"text-align: right;\">\n",
       "      <th></th>\n",
       "      <th>event</th>\n",
       "      <th>RV_16</th>\n",
       "      <th>RV_17</th>\n",
       "      <th>RV_diff</th>\n",
       "    </tr>\n",
       "  </thead>\n",
       "  <tbody>\n",
       "    <tr>\n",
       "      <th>23</th>\n",
       "      <td>Sac Fly DP</td>\n",
       "      <td>-0.370443</td>\n",
       "      <td>-0.543715</td>\n",
       "      <td>0.173272</td>\n",
       "    </tr>\n",
       "  </tbody>\n",
       "</table>\n",
       "</div>"
      ],
      "text/plain": [
       "         event     RV_16     RV_17   RV_diff\n",
       "23  Sac Fly DP -0.370443 -0.543715  0.173272"
      ]
     },
     "execution_count": 65,
     "metadata": {},
     "output_type": "execute_result"
    }
   ],
   "source": [
    "run_value_event[run_value_event[\"RV_diff\"] == run_value_event[\"RV_diff\"].max()]"
   ]
  },
  {
   "cell_type": "markdown",
   "metadata": {},
   "source": [
    "Question 4\n",
    "Calculate the difference in player run value between 2017 and 2016 for players that accumulated run values in both seasons.  According to this calculation, what was the largest improvement in run value from 2016 to 2017?"
   ]
  },
  {
   "cell_type": "code",
   "execution_count": 66,
   "metadata": {},
   "outputs": [],
   "source": [
    "run_value_player[\"RV_diff\"] = run_value_player[\"RV_17\"] - run_value_player[\"RV_16\"]"
   ]
  },
  {
   "cell_type": "code",
   "execution_count": 67,
   "metadata": {},
   "outputs": [
    {
     "data": {
      "text/html": [
       "<div>\n",
       "<style scoped>\n",
       "    .dataframe tbody tr th:only-of-type {\n",
       "        vertical-align: middle;\n",
       "    }\n",
       "\n",
       "    .dataframe tbody tr th {\n",
       "        vertical-align: top;\n",
       "    }\n",
       "\n",
       "    .dataframe thead th {\n",
       "        text-align: right;\n",
       "    }\n",
       "</style>\n",
       "<table border=\"1\" class=\"dataframe\">\n",
       "  <thead>\n",
       "    <tr style=\"text-align: right;\">\n",
       "      <th></th>\n",
       "      <th>batterId</th>\n",
       "      <th>RV_16</th>\n",
       "      <th>RV_17</th>\n",
       "      <th>RV_diff</th>\n",
       "    </tr>\n",
       "  </thead>\n",
       "  <tbody>\n",
       "    <tr>\n",
       "      <th>722</th>\n",
       "      <td>592450</td>\n",
       "      <td>-4.179157</td>\n",
       "      <td>57.081625</td>\n",
       "      <td>61.260782</td>\n",
       "    </tr>\n",
       "  </tbody>\n",
       "</table>\n",
       "</div>"
      ],
      "text/plain": [
       "     batterId     RV_16      RV_17    RV_diff\n",
       "722    592450 -4.179157  57.081625  61.260782"
      ]
     },
     "execution_count": 67,
     "metadata": {},
     "output_type": "execute_result"
    }
   ],
   "source": [
    "run_value_player[run_value_player[\"RV_diff\"] == run_value_player[\"RV_diff\"].max()]"
   ]
  }
 ],
 "metadata": {
  "kernelspec": {
   "display_name": "Python 3",
   "language": "python",
   "name": "python3"
  },
  "language_info": {
   "codemirror_mode": {
    "name": "ipython",
    "version": 3
   },
   "file_extension": ".py",
   "mimetype": "text/x-python",
   "name": "python",
   "nbconvert_exporter": "python",
   "pygments_lexer": "ipython3",
   "version": "3.6.7"
  }
 },
 "nbformat": 4,
 "nbformat_minor": 2
}
